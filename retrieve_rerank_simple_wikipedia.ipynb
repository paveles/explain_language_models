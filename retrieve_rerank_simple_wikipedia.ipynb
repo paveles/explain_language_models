{
  "nbformat": 4,
  "nbformat_minor": 0,
  "metadata": {
    "colab": {
      "provenance": [],
      "collapsed_sections": []
    },
    "kernelspec": {
      "name": "python3",
      "display_name": "Python 3"
    },
    "accelerator": "GPU",
    "widgets": {
      "application/vnd.jupyter.widget-state+json": {
        "f4ac8d8e6ba44ed69ffe05220e710a1e": {
          "model_module": "@jupyter-widgets/controls",
          "model_name": "HBoxModel",
          "model_module_version": "1.5.0",
          "state": {
            "_view_name": "HBoxView",
            "_dom_classes": [],
            "_model_name": "HBoxModel",
            "_view_module": "@jupyter-widgets/controls",
            "_model_module_version": "1.5.0",
            "_view_count": null,
            "_view_module_version": "1.5.0",
            "box_style": "",
            "layout": "IPY_MODEL_c5d60533b79f49f59b904f359400af3d",
            "_model_module": "@jupyter-widgets/controls",
            "children": [
              "IPY_MODEL_ea072281964f487bab5c2e8a0f9dff14",
              "IPY_MODEL_34ae2d2be575453da7efb75b4a272063",
              "IPY_MODEL_cc7b37db23b946c29d99f5f153713210"
            ]
          }
        },
        "c5d60533b79f49f59b904f359400af3d": {
          "model_module": "@jupyter-widgets/base",
          "model_name": "LayoutModel",
          "model_module_version": "1.2.0",
          "state": {
            "_view_name": "LayoutView",
            "grid_template_rows": null,
            "right": null,
            "justify_content": null,
            "_view_module": "@jupyter-widgets/base",
            "overflow": null,
            "_model_module_version": "1.2.0",
            "_view_count": null,
            "flex_flow": null,
            "width": null,
            "min_width": null,
            "border": null,
            "align_items": null,
            "bottom": null,
            "_model_module": "@jupyter-widgets/base",
            "top": null,
            "grid_column": null,
            "overflow_y": null,
            "overflow_x": null,
            "grid_auto_flow": null,
            "grid_area": null,
            "grid_template_columns": null,
            "flex": null,
            "_model_name": "LayoutModel",
            "justify_items": null,
            "grid_row": null,
            "max_height": null,
            "align_content": null,
            "visibility": null,
            "align_self": null,
            "height": null,
            "min_height": null,
            "padding": null,
            "grid_auto_rows": null,
            "grid_gap": null,
            "max_width": null,
            "order": null,
            "_view_module_version": "1.2.0",
            "grid_template_areas": null,
            "object_position": null,
            "object_fit": null,
            "grid_auto_columns": null,
            "margin": null,
            "display": null,
            "left": null
          }
        },
        "ea072281964f487bab5c2e8a0f9dff14": {
          "model_module": "@jupyter-widgets/controls",
          "model_name": "HTMLModel",
          "model_module_version": "1.5.0",
          "state": {
            "_view_name": "HTMLView",
            "style": "IPY_MODEL_c48e5cfb6ddf4253997d08cf77d90677",
            "_dom_classes": [],
            "description": "",
            "_model_name": "HTMLModel",
            "placeholder": "​",
            "_view_module": "@jupyter-widgets/controls",
            "_model_module_version": "1.5.0",
            "value": "Batches: 100%",
            "_view_count": null,
            "_view_module_version": "1.5.0",
            "description_tooltip": null,
            "_model_module": "@jupyter-widgets/controls",
            "layout": "IPY_MODEL_b405c4543ea547eabf6af8a388afb383"
          }
        },
        "34ae2d2be575453da7efb75b4a272063": {
          "model_module": "@jupyter-widgets/controls",
          "model_name": "FloatProgressModel",
          "model_module_version": "1.5.0",
          "state": {
            "_view_name": "ProgressView",
            "style": "IPY_MODEL_e58261d286f44f8199231f068edc99d6",
            "_dom_classes": [],
            "description": "",
            "_model_name": "FloatProgressModel",
            "bar_style": "success",
            "max": 5300,
            "_view_module": "@jupyter-widgets/controls",
            "_model_module_version": "1.5.0",
            "value": 5300,
            "_view_count": null,
            "_view_module_version": "1.5.0",
            "orientation": "horizontal",
            "min": 0,
            "description_tooltip": null,
            "_model_module": "@jupyter-widgets/controls",
            "layout": "IPY_MODEL_a74a0a637d83490aaf0117c08c6c3ec1"
          }
        },
        "cc7b37db23b946c29d99f5f153713210": {
          "model_module": "@jupyter-widgets/controls",
          "model_name": "HTMLModel",
          "model_module_version": "1.5.0",
          "state": {
            "_view_name": "HTMLView",
            "style": "IPY_MODEL_288846767bd04ff4858b8a41220e588a",
            "_dom_classes": [],
            "description": "",
            "_model_name": "HTMLModel",
            "placeholder": "​",
            "_view_module": "@jupyter-widgets/controls",
            "_model_module_version": "1.5.0",
            "value": " 5300/5300 [04:16&lt;00:00, 54.91it/s]",
            "_view_count": null,
            "_view_module_version": "1.5.0",
            "description_tooltip": null,
            "_model_module": "@jupyter-widgets/controls",
            "layout": "IPY_MODEL_3033c472f1f84d02b4b924f4cc238572"
          }
        },
        "c48e5cfb6ddf4253997d08cf77d90677": {
          "model_module": "@jupyter-widgets/controls",
          "model_name": "DescriptionStyleModel",
          "model_module_version": "1.5.0",
          "state": {
            "_view_name": "StyleView",
            "_model_name": "DescriptionStyleModel",
            "description_width": "",
            "_view_module": "@jupyter-widgets/base",
            "_model_module_version": "1.5.0",
            "_view_count": null,
            "_view_module_version": "1.2.0",
            "_model_module": "@jupyter-widgets/controls"
          }
        },
        "b405c4543ea547eabf6af8a388afb383": {
          "model_module": "@jupyter-widgets/base",
          "model_name": "LayoutModel",
          "model_module_version": "1.2.0",
          "state": {
            "_view_name": "LayoutView",
            "grid_template_rows": null,
            "right": null,
            "justify_content": null,
            "_view_module": "@jupyter-widgets/base",
            "overflow": null,
            "_model_module_version": "1.2.0",
            "_view_count": null,
            "flex_flow": null,
            "width": null,
            "min_width": null,
            "border": null,
            "align_items": null,
            "bottom": null,
            "_model_module": "@jupyter-widgets/base",
            "top": null,
            "grid_column": null,
            "overflow_y": null,
            "overflow_x": null,
            "grid_auto_flow": null,
            "grid_area": null,
            "grid_template_columns": null,
            "flex": null,
            "_model_name": "LayoutModel",
            "justify_items": null,
            "grid_row": null,
            "max_height": null,
            "align_content": null,
            "visibility": null,
            "align_self": null,
            "height": null,
            "min_height": null,
            "padding": null,
            "grid_auto_rows": null,
            "grid_gap": null,
            "max_width": null,
            "order": null,
            "_view_module_version": "1.2.0",
            "grid_template_areas": null,
            "object_position": null,
            "object_fit": null,
            "grid_auto_columns": null,
            "margin": null,
            "display": null,
            "left": null
          }
        },
        "e58261d286f44f8199231f068edc99d6": {
          "model_module": "@jupyter-widgets/controls",
          "model_name": "ProgressStyleModel",
          "model_module_version": "1.5.0",
          "state": {
            "_view_name": "StyleView",
            "_model_name": "ProgressStyleModel",
            "description_width": "",
            "_view_module": "@jupyter-widgets/base",
            "_model_module_version": "1.5.0",
            "_view_count": null,
            "_view_module_version": "1.2.0",
            "bar_color": null,
            "_model_module": "@jupyter-widgets/controls"
          }
        },
        "a74a0a637d83490aaf0117c08c6c3ec1": {
          "model_module": "@jupyter-widgets/base",
          "model_name": "LayoutModel",
          "model_module_version": "1.2.0",
          "state": {
            "_view_name": "LayoutView",
            "grid_template_rows": null,
            "right": null,
            "justify_content": null,
            "_view_module": "@jupyter-widgets/base",
            "overflow": null,
            "_model_module_version": "1.2.0",
            "_view_count": null,
            "flex_flow": null,
            "width": null,
            "min_width": null,
            "border": null,
            "align_items": null,
            "bottom": null,
            "_model_module": "@jupyter-widgets/base",
            "top": null,
            "grid_column": null,
            "overflow_y": null,
            "overflow_x": null,
            "grid_auto_flow": null,
            "grid_area": null,
            "grid_template_columns": null,
            "flex": null,
            "_model_name": "LayoutModel",
            "justify_items": null,
            "grid_row": null,
            "max_height": null,
            "align_content": null,
            "visibility": null,
            "align_self": null,
            "height": null,
            "min_height": null,
            "padding": null,
            "grid_auto_rows": null,
            "grid_gap": null,
            "max_width": null,
            "order": null,
            "_view_module_version": "1.2.0",
            "grid_template_areas": null,
            "object_position": null,
            "object_fit": null,
            "grid_auto_columns": null,
            "margin": null,
            "display": null,
            "left": null
          }
        },
        "288846767bd04ff4858b8a41220e588a": {
          "model_module": "@jupyter-widgets/controls",
          "model_name": "DescriptionStyleModel",
          "model_module_version": "1.5.0",
          "state": {
            "_view_name": "StyleView",
            "_model_name": "DescriptionStyleModel",
            "description_width": "",
            "_view_module": "@jupyter-widgets/base",
            "_model_module_version": "1.5.0",
            "_view_count": null,
            "_view_module_version": "1.2.0",
            "_model_module": "@jupyter-widgets/controls"
          }
        },
        "3033c472f1f84d02b4b924f4cc238572": {
          "model_module": "@jupyter-widgets/base",
          "model_name": "LayoutModel",
          "model_module_version": "1.2.0",
          "state": {
            "_view_name": "LayoutView",
            "grid_template_rows": null,
            "right": null,
            "justify_content": null,
            "_view_module": "@jupyter-widgets/base",
            "overflow": null,
            "_model_module_version": "1.2.0",
            "_view_count": null,
            "flex_flow": null,
            "width": null,
            "min_width": null,
            "border": null,
            "align_items": null,
            "bottom": null,
            "_model_module": "@jupyter-widgets/base",
            "top": null,
            "grid_column": null,
            "overflow_y": null,
            "overflow_x": null,
            "grid_auto_flow": null,
            "grid_area": null,
            "grid_template_columns": null,
            "flex": null,
            "_model_name": "LayoutModel",
            "justify_items": null,
            "grid_row": null,
            "max_height": null,
            "align_content": null,
            "visibility": null,
            "align_self": null,
            "height": null,
            "min_height": null,
            "padding": null,
            "grid_auto_rows": null,
            "grid_gap": null,
            "max_width": null,
            "order": null,
            "_view_module_version": "1.2.0",
            "grid_template_areas": null,
            "object_position": null,
            "object_fit": null,
            "grid_auto_columns": null,
            "margin": null,
            "display": null,
            "left": null
          }
        },
        "63115c5a4be6450faab344e8c2df19bb": {
          "model_module": "@jupyter-widgets/controls",
          "model_name": "HBoxModel",
          "model_module_version": "1.5.0",
          "state": {
            "_view_name": "HBoxView",
            "_dom_classes": [],
            "_model_name": "HBoxModel",
            "_view_module": "@jupyter-widgets/controls",
            "_model_module_version": "1.5.0",
            "_view_count": null,
            "_view_module_version": "1.5.0",
            "box_style": "",
            "layout": "IPY_MODEL_cdfb89edf63c40d1857894a6c2f9eef7",
            "_model_module": "@jupyter-widgets/controls",
            "children": [
              "IPY_MODEL_76b3faa9ed44406482cc5a104ea4f997",
              "IPY_MODEL_dc9b469dc4c74499b5cc65192f9bfdd0",
              "IPY_MODEL_ed35b2b5f2054e82a79647575f0a4383"
            ]
          }
        },
        "cdfb89edf63c40d1857894a6c2f9eef7": {
          "model_module": "@jupyter-widgets/base",
          "model_name": "LayoutModel",
          "model_module_version": "1.2.0",
          "state": {
            "_view_name": "LayoutView",
            "grid_template_rows": null,
            "right": null,
            "justify_content": null,
            "_view_module": "@jupyter-widgets/base",
            "overflow": null,
            "_model_module_version": "1.2.0",
            "_view_count": null,
            "flex_flow": null,
            "width": null,
            "min_width": null,
            "border": null,
            "align_items": null,
            "bottom": null,
            "_model_module": "@jupyter-widgets/base",
            "top": null,
            "grid_column": null,
            "overflow_y": null,
            "overflow_x": null,
            "grid_auto_flow": null,
            "grid_area": null,
            "grid_template_columns": null,
            "flex": null,
            "_model_name": "LayoutModel",
            "justify_items": null,
            "grid_row": null,
            "max_height": null,
            "align_content": null,
            "visibility": null,
            "align_self": null,
            "height": null,
            "min_height": null,
            "padding": null,
            "grid_auto_rows": null,
            "grid_gap": null,
            "max_width": null,
            "order": null,
            "_view_module_version": "1.2.0",
            "grid_template_areas": null,
            "object_position": null,
            "object_fit": null,
            "grid_auto_columns": null,
            "margin": null,
            "display": null,
            "left": null
          }
        },
        "76b3faa9ed44406482cc5a104ea4f997": {
          "model_module": "@jupyter-widgets/controls",
          "model_name": "HTMLModel",
          "model_module_version": "1.5.0",
          "state": {
            "_view_name": "HTMLView",
            "style": "IPY_MODEL_7d8325fab02e4bf2b26be9bef6572b74",
            "_dom_classes": [],
            "description": "",
            "_model_name": "HTMLModel",
            "placeholder": "​",
            "_view_module": "@jupyter-widgets/controls",
            "_model_module_version": "1.5.0",
            "value": "100%",
            "_view_count": null,
            "_view_module_version": "1.5.0",
            "description_tooltip": null,
            "_model_module": "@jupyter-widgets/controls",
            "layout": "IPY_MODEL_6e14e2004e6e4260b87640267370b525"
          }
        },
        "dc9b469dc4c74499b5cc65192f9bfdd0": {
          "model_module": "@jupyter-widgets/controls",
          "model_name": "FloatProgressModel",
          "model_module_version": "1.5.0",
          "state": {
            "_view_name": "ProgressView",
            "style": "IPY_MODEL_fd10628dac3441b39de3925896694a27",
            "_dom_classes": [],
            "description": "",
            "_model_name": "FloatProgressModel",
            "bar_style": "success",
            "max": 169597,
            "_view_module": "@jupyter-widgets/controls",
            "_model_module_version": "1.5.0",
            "value": 169597,
            "_view_count": null,
            "_view_module_version": "1.5.0",
            "orientation": "horizontal",
            "min": 0,
            "description_tooltip": null,
            "_model_module": "@jupyter-widgets/controls",
            "layout": "IPY_MODEL_3e0c1cf8c6bb4c9e816041c129cc9b69"
          }
        },
        "ed35b2b5f2054e82a79647575f0a4383": {
          "model_module": "@jupyter-widgets/controls",
          "model_name": "HTMLModel",
          "model_module_version": "1.5.0",
          "state": {
            "_view_name": "HTMLView",
            "style": "IPY_MODEL_378dfb1afe2e45948b9320d0c3bf2ffe",
            "_dom_classes": [],
            "description": "",
            "_model_name": "HTMLModel",
            "placeholder": "​",
            "_view_module": "@jupyter-widgets/controls",
            "_model_module_version": "1.5.0",
            "value": " 169597/169597 [00:08&lt;00:00, 20813.27it/s]",
            "_view_count": null,
            "_view_module_version": "1.5.0",
            "description_tooltip": null,
            "_model_module": "@jupyter-widgets/controls",
            "layout": "IPY_MODEL_cc040461feb54858b6404b053954075f"
          }
        },
        "7d8325fab02e4bf2b26be9bef6572b74": {
          "model_module": "@jupyter-widgets/controls",
          "model_name": "DescriptionStyleModel",
          "model_module_version": "1.5.0",
          "state": {
            "_view_name": "StyleView",
            "_model_name": "DescriptionStyleModel",
            "description_width": "",
            "_view_module": "@jupyter-widgets/base",
            "_model_module_version": "1.5.0",
            "_view_count": null,
            "_view_module_version": "1.2.0",
            "_model_module": "@jupyter-widgets/controls"
          }
        },
        "6e14e2004e6e4260b87640267370b525": {
          "model_module": "@jupyter-widgets/base",
          "model_name": "LayoutModel",
          "model_module_version": "1.2.0",
          "state": {
            "_view_name": "LayoutView",
            "grid_template_rows": null,
            "right": null,
            "justify_content": null,
            "_view_module": "@jupyter-widgets/base",
            "overflow": null,
            "_model_module_version": "1.2.0",
            "_view_count": null,
            "flex_flow": null,
            "width": null,
            "min_width": null,
            "border": null,
            "align_items": null,
            "bottom": null,
            "_model_module": "@jupyter-widgets/base",
            "top": null,
            "grid_column": null,
            "overflow_y": null,
            "overflow_x": null,
            "grid_auto_flow": null,
            "grid_area": null,
            "grid_template_columns": null,
            "flex": null,
            "_model_name": "LayoutModel",
            "justify_items": null,
            "grid_row": null,
            "max_height": null,
            "align_content": null,
            "visibility": null,
            "align_self": null,
            "height": null,
            "min_height": null,
            "padding": null,
            "grid_auto_rows": null,
            "grid_gap": null,
            "max_width": null,
            "order": null,
            "_view_module_version": "1.2.0",
            "grid_template_areas": null,
            "object_position": null,
            "object_fit": null,
            "grid_auto_columns": null,
            "margin": null,
            "display": null,
            "left": null
          }
        },
        "fd10628dac3441b39de3925896694a27": {
          "model_module": "@jupyter-widgets/controls",
          "model_name": "ProgressStyleModel",
          "model_module_version": "1.5.0",
          "state": {
            "_view_name": "StyleView",
            "_model_name": "ProgressStyleModel",
            "description_width": "",
            "_view_module": "@jupyter-widgets/base",
            "_model_module_version": "1.5.0",
            "_view_count": null,
            "_view_module_version": "1.2.0",
            "bar_color": null,
            "_model_module": "@jupyter-widgets/controls"
          }
        },
        "3e0c1cf8c6bb4c9e816041c129cc9b69": {
          "model_module": "@jupyter-widgets/base",
          "model_name": "LayoutModel",
          "model_module_version": "1.2.0",
          "state": {
            "_view_name": "LayoutView",
            "grid_template_rows": null,
            "right": null,
            "justify_content": null,
            "_view_module": "@jupyter-widgets/base",
            "overflow": null,
            "_model_module_version": "1.2.0",
            "_view_count": null,
            "flex_flow": null,
            "width": null,
            "min_width": null,
            "border": null,
            "align_items": null,
            "bottom": null,
            "_model_module": "@jupyter-widgets/base",
            "top": null,
            "grid_column": null,
            "overflow_y": null,
            "overflow_x": null,
            "grid_auto_flow": null,
            "grid_area": null,
            "grid_template_columns": null,
            "flex": null,
            "_model_name": "LayoutModel",
            "justify_items": null,
            "grid_row": null,
            "max_height": null,
            "align_content": null,
            "visibility": null,
            "align_self": null,
            "height": null,
            "min_height": null,
            "padding": null,
            "grid_auto_rows": null,
            "grid_gap": null,
            "max_width": null,
            "order": null,
            "_view_module_version": "1.2.0",
            "grid_template_areas": null,
            "object_position": null,
            "object_fit": null,
            "grid_auto_columns": null,
            "margin": null,
            "display": null,
            "left": null
          }
        },
        "378dfb1afe2e45948b9320d0c3bf2ffe": {
          "model_module": "@jupyter-widgets/controls",
          "model_name": "DescriptionStyleModel",
          "model_module_version": "1.5.0",
          "state": {
            "_view_name": "StyleView",
            "_model_name": "DescriptionStyleModel",
            "description_width": "",
            "_view_module": "@jupyter-widgets/base",
            "_model_module_version": "1.5.0",
            "_view_count": null,
            "_view_module_version": "1.2.0",
            "_model_module": "@jupyter-widgets/controls"
          }
        },
        "cc040461feb54858b6404b053954075f": {
          "model_module": "@jupyter-widgets/base",
          "model_name": "LayoutModel",
          "model_module_version": "1.2.0",
          "state": {
            "_view_name": "LayoutView",
            "grid_template_rows": null,
            "right": null,
            "justify_content": null,
            "_view_module": "@jupyter-widgets/base",
            "overflow": null,
            "_model_module_version": "1.2.0",
            "_view_count": null,
            "flex_flow": null,
            "width": null,
            "min_width": null,
            "border": null,
            "align_items": null,
            "bottom": null,
            "_model_module": "@jupyter-widgets/base",
            "top": null,
            "grid_column": null,
            "overflow_y": null,
            "overflow_x": null,
            "grid_auto_flow": null,
            "grid_area": null,
            "grid_template_columns": null,
            "flex": null,
            "_model_name": "LayoutModel",
            "justify_items": null,
            "grid_row": null,
            "max_height": null,
            "align_content": null,
            "visibility": null,
            "align_self": null,
            "height": null,
            "min_height": null,
            "padding": null,
            "grid_auto_rows": null,
            "grid_gap": null,
            "max_width": null,
            "order": null,
            "_view_module_version": "1.2.0",
            "grid_template_areas": null,
            "object_position": null,
            "object_fit": null,
            "grid_auto_columns": null,
            "margin": null,
            "display": null,
            "left": null
          }
        }
      }
    }
  },
  "cells": [
    {
      "cell_type": "markdown",
      "metadata": {
        "id": "ZyP3dXRfcXLa"
      },
      "source": [
        "# Question-Answering using Simple Wikipedia Index\n",
        "\n",
        "This examples demonstrates the setup for Query / Question-Answer-Retrieval.\n",
        "\n",
        "You can input a query or a question. The script then uses semantic search\n",
        "to find relevant passages in Simple English Wikipedia (as it is smaller and fits better in RAM).\n",
        "\n",
        "For semantic search, we use `SentenceTransformer('multi-qa-MiniLM-L6-cos-v1')` and retrieve 100 potentially passages that answer the input query.\n",
        "\n",
        "Next, we use a more powerful CrossEncoder (`cross_encoder = CrossEncoder('cross-encoder/ms-marco-MiniLM-L-6-v2')`) that\n",
        "scores the query and all retrieved passages for their relevancy. The cross-encoder is neccessary to filter out certain noise\n",
        "that might be retrieved from the semantic search step.\n"
      ]
    },
    {
      "cell_type": "code",
      "metadata": {
        "id": "X2R9TjVzNV_E",
        "colab": {
          "base_uri": "https://localhost:8080/"
        },
        "outputId": "aad80d81-811f-4d63-80e1-d7d9cd11d830"
      },
      "source": [
        "!pip install -U sentence-transformers rank_bm25"
      ],
      "execution_count": null,
      "outputs": [
        {
          "output_type": "stream",
          "name": "stdout",
          "text": [
            "Requirement already satisfied: sentence-transformers in /usr/local/lib/python3.7/dist-packages (2.0.0)\n",
            "Requirement already satisfied: rank_bm25 in /usr/local/lib/python3.7/dist-packages (0.2.1)\n",
            "Requirement already satisfied: scikit-learn in /usr/local/lib/python3.7/dist-packages (from sentence-transformers) (0.22.2.post1)\n",
            "Requirement already satisfied: torch>=1.6.0 in /usr/local/lib/python3.7/dist-packages (from sentence-transformers) (1.9.0+cu102)\n",
            "Requirement already satisfied: transformers<5.0.0,>=4.6.0 in /usr/local/lib/python3.7/dist-packages (from sentence-transformers) (4.10.2)\n",
            "Requirement already satisfied: tqdm in /usr/local/lib/python3.7/dist-packages (from sentence-transformers) (4.62.0)\n",
            "Requirement already satisfied: huggingface-hub in /usr/local/lib/python3.7/dist-packages (from sentence-transformers) (0.0.16)\n",
            "Requirement already satisfied: sentencepiece in /usr/local/lib/python3.7/dist-packages (from sentence-transformers) (0.1.96)\n",
            "Requirement already satisfied: nltk in /usr/local/lib/python3.7/dist-packages (from sentence-transformers) (3.2.5)\n",
            "Requirement already satisfied: scipy in /usr/local/lib/python3.7/dist-packages (from sentence-transformers) (1.4.1)\n",
            "Requirement already satisfied: torchvision in /usr/local/lib/python3.7/dist-packages (from sentence-transformers) (0.10.0+cu102)\n",
            "Requirement already satisfied: numpy in /usr/local/lib/python3.7/dist-packages (from sentence-transformers) (1.19.5)\n",
            "Requirement already satisfied: typing-extensions in /usr/local/lib/python3.7/dist-packages (from torch>=1.6.0->sentence-transformers) (3.7.4.3)\n",
            "Requirement already satisfied: packaging in /usr/local/lib/python3.7/dist-packages (from transformers<5.0.0,>=4.6.0->sentence-transformers) (21.0)\n",
            "Requirement already satisfied: requests in /usr/local/lib/python3.7/dist-packages (from transformers<5.0.0,>=4.6.0->sentence-transformers) (2.23.0)\n",
            "Requirement already satisfied: tokenizers<0.11,>=0.10.1 in /usr/local/lib/python3.7/dist-packages (from transformers<5.0.0,>=4.6.0->sentence-transformers) (0.10.3)\n",
            "Requirement already satisfied: importlib-metadata in /usr/local/lib/python3.7/dist-packages (from transformers<5.0.0,>=4.6.0->sentence-transformers) (4.6.4)\n",
            "Requirement already satisfied: filelock in /usr/local/lib/python3.7/dist-packages (from transformers<5.0.0,>=4.6.0->sentence-transformers) (3.0.12)\n",
            "Requirement already satisfied: pyyaml>=5.1 in /usr/local/lib/python3.7/dist-packages (from transformers<5.0.0,>=4.6.0->sentence-transformers) (5.4.1)\n",
            "Requirement already satisfied: regex!=2019.12.17 in /usr/local/lib/python3.7/dist-packages (from transformers<5.0.0,>=4.6.0->sentence-transformers) (2019.12.20)\n",
            "Requirement already satisfied: sacremoses in /usr/local/lib/python3.7/dist-packages (from transformers<5.0.0,>=4.6.0->sentence-transformers) (0.0.45)\n",
            "Requirement already satisfied: pyparsing>=2.0.2 in /usr/local/lib/python3.7/dist-packages (from packaging->transformers<5.0.0,>=4.6.0->sentence-transformers) (2.4.7)\n",
            "Requirement already satisfied: zipp>=0.5 in /usr/local/lib/python3.7/dist-packages (from importlib-metadata->transformers<5.0.0,>=4.6.0->sentence-transformers) (3.5.0)\n",
            "Requirement already satisfied: six in /usr/local/lib/python3.7/dist-packages (from nltk->sentence-transformers) (1.15.0)\n",
            "Requirement already satisfied: certifi>=2017.4.17 in /usr/local/lib/python3.7/dist-packages (from requests->transformers<5.0.0,>=4.6.0->sentence-transformers) (2021.5.30)\n",
            "Requirement already satisfied: idna<3,>=2.5 in /usr/local/lib/python3.7/dist-packages (from requests->transformers<5.0.0,>=4.6.0->sentence-transformers) (2.10)\n",
            "Requirement already satisfied: chardet<4,>=3.0.2 in /usr/local/lib/python3.7/dist-packages (from requests->transformers<5.0.0,>=4.6.0->sentence-transformers) (3.0.4)\n",
            "Requirement already satisfied: urllib3!=1.25.0,!=1.25.1,<1.26,>=1.21.1 in /usr/local/lib/python3.7/dist-packages (from requests->transformers<5.0.0,>=4.6.0->sentence-transformers) (1.24.3)\n",
            "Requirement already satisfied: click in /usr/local/lib/python3.7/dist-packages (from sacremoses->transformers<5.0.0,>=4.6.0->sentence-transformers) (7.1.2)\n",
            "Requirement already satisfied: joblib in /usr/local/lib/python3.7/dist-packages (from sacremoses->transformers<5.0.0,>=4.6.0->sentence-transformers) (1.0.1)\n",
            "Requirement already satisfied: pillow>=5.3.0 in /usr/local/lib/python3.7/dist-packages (from torchvision->sentence-transformers) (7.1.2)\n"
          ]
        }
      ]
    },
    {
      "cell_type": "code",
      "metadata": {
        "colab": {
          "base_uri": "https://localhost:8080/"
        },
        "id": "JKuJukH9QB-p",
        "outputId": "63d1d59e-2f70-44ce-e83c-b312e8128a39"
      },
      "source": [
        "!nvidia-smi"
      ],
      "execution_count": null,
      "outputs": [
        {
          "output_type": "stream",
          "name": "stdout",
          "text": [
            "Mon Sep 13 17:42:58 2021       \n",
            "+-----------------------------------------------------------------------------+\n",
            "| NVIDIA-SMI 470.63.01    Driver Version: 460.32.03    CUDA Version: 11.2     |\n",
            "|-------------------------------+----------------------+----------------------+\n",
            "| GPU  Name        Persistence-M| Bus-Id        Disp.A | Volatile Uncorr. ECC |\n",
            "| Fan  Temp  Perf  Pwr:Usage/Cap|         Memory-Usage | GPU-Util  Compute M. |\n",
            "|                               |                      |               MIG M. |\n",
            "|===============================+======================+======================|\n",
            "|   0  Tesla K80           Off  | 00000000:00:04.0 Off |                    0 |\n",
            "| N/A   69C    P8    30W / 149W |      0MiB / 11441MiB |      0%      Default |\n",
            "|                               |                      |                  N/A |\n",
            "+-------------------------------+----------------------+----------------------+\n",
            "                                                                               \n",
            "+-----------------------------------------------------------------------------+\n",
            "| Processes:                                                                  |\n",
            "|  GPU   GI   CI        PID   Type   Process name                  GPU Memory |\n",
            "|        ID   ID                                                   Usage      |\n",
            "|=============================================================================|\n",
            "|  No running processes found                                                 |\n",
            "+-----------------------------------------------------------------------------+\n"
          ]
        }
      ]
    },
    {
      "cell_type": "code",
      "metadata": {
        "colab": {
          "base_uri": "https://localhost:8080/",
          "height": 66,
          "referenced_widgets": [
            "f4ac8d8e6ba44ed69ffe05220e710a1e",
            "c5d60533b79f49f59b904f359400af3d",
            "ea072281964f487bab5c2e8a0f9dff14",
            "34ae2d2be575453da7efb75b4a272063",
            "cc7b37db23b946c29d99f5f153713210",
            "c48e5cfb6ddf4253997d08cf77d90677",
            "b405c4543ea547eabf6af8a388afb383",
            "e58261d286f44f8199231f068edc99d6",
            "a74a0a637d83490aaf0117c08c6c3ec1",
            "288846767bd04ff4858b8a41220e588a",
            "3033c472f1f84d02b4b924f4cc238572"
          ]
        },
        "id": "D_hDi8KzNgMM",
        "outputId": "573dda65-f646-4b2a-8ab4-17fb9dd07730"
      },
      "source": [
        "import json\n",
        "from sentence_transformers import SentenceTransformer, CrossEncoder, util\n",
        "import time\n",
        "import gzip\n",
        "import os\n",
        "import torch\n",
        "\n",
        "if not torch.cuda.is_available():\n",
        "  print(\"Warning: No GPU found. Please add GPU to your notebook\")\n",
        "\n",
        "\n",
        "#We use the Bi-Encoder to encode all passages, so that we can use it with sematic search\n",
        "bi_encoder = SentenceTransformer('multi-qa-MiniLM-L6-cos-v1')\n",
        "bi_encoder.max_seq_length = 256     #Truncate long passages to 256 tokens\n",
        "top_k = 100                         #Number of passages we want to retrieve with the bi-encoder\n",
        "\n",
        "#The bi-encoder will retrieve 100 documents. We use a cross-encoder, to re-rank the results list to improve the quality\n",
        "cross_encoder = CrossEncoder('cross-encoder/ms-marco-MiniLM-L-6-v2')\n",
        "\n",
        "# As dataset, we use Simple English Wikipedia. Compared to the full English wikipedia, it has only\n",
        "# about 170k articles. We split these articles into paragraphs and encode them with the bi-encoder\n",
        "\n",
        "wikipedia_filepath = 'simplewiki-2020-11-01.jsonl.gz'\n",
        "\n",
        "if not os.path.exists(wikipedia_filepath):\n",
        "    util.http_get('http://sbert.net/datasets/simplewiki-2020-11-01.jsonl.gz', wikipedia_filepath)\n",
        "\n",
        "passages = []\n",
        "with gzip.open(wikipedia_filepath, 'rt', encoding='utf8') as fIn:\n",
        "    for line in fIn:\n",
        "        data = json.loads(line.strip())\n",
        "        \n",
        "        #Add all paragraphs\n",
        "        #passages.extend(data['paragraphs'])\n",
        "\n",
        "        #Only add the first paragraph\n",
        "        passages.append(data['paragraphs'][0])\n",
        "\n",
        "print(\"Passages:\", len(passages))\n",
        "\n",
        "# We encode all passages into our vector space. This takes about 5 minutes (depends on your GPU speed)\n",
        "corpus_embeddings = bi_encoder.encode(passages, convert_to_tensor=True, show_progress_bar=True)"
      ],
      "execution_count": null,
      "outputs": [
        {
          "output_type": "stream",
          "name": "stdout",
          "text": [
            "Passages: 169597\n"
          ]
        },
        {
          "output_type": "display_data",
          "data": {
            "application/vnd.jupyter.widget-view+json": {
              "model_id": "f4ac8d8e6ba44ed69ffe05220e710a1e",
              "version_minor": 0,
              "version_major": 2
            },
            "text/plain": [
              "Batches:   0%|          | 0/5300 [00:00<?, ?it/s]"
            ]
          },
          "metadata": {}
        }
      ]
    },
    {
      "cell_type": "code",
      "metadata": {
        "colab": {
          "base_uri": "https://localhost:8080/",
          "height": 104,
          "referenced_widgets": [
            "63115c5a4be6450faab344e8c2df19bb",
            "cdfb89edf63c40d1857894a6c2f9eef7",
            "76b3faa9ed44406482cc5a104ea4f997",
            "dc9b469dc4c74499b5cc65192f9bfdd0",
            "ed35b2b5f2054e82a79647575f0a4383",
            "7d8325fab02e4bf2b26be9bef6572b74",
            "6e14e2004e6e4260b87640267370b525",
            "fd10628dac3441b39de3925896694a27",
            "3e0c1cf8c6bb4c9e816041c129cc9b69",
            "378dfb1afe2e45948b9320d0c3bf2ffe",
            "cc040461feb54858b6404b053954075f"
          ]
        },
        "id": "0rueR6ovrs01",
        "outputId": "07d2aca8-1da1-4f73-af15-127216d925bb"
      },
      "source": [
        "# We also compare the results to lexical search (keyword search). Here, we use \n",
        "# the BM25 algorithm which is implemented in the rank_bm25 package.\n",
        "\n",
        "from rank_bm25 import BM25Okapi\n",
        "from sklearn.feature_extraction import stop_words\n",
        "import string\n",
        "from tqdm.autonotebook import tqdm\n",
        "import numpy as np\n",
        "\n",
        "# We lower case our text and remove stop-words from indexing\n",
        "def bm25_tokenizer(text):\n",
        "  tokenized_doc = []\n",
        "  for token in text.lower().split():\n",
        "    token = token.strip(string.punctuation)\n",
        "\n",
        "    if len(token) > 0 and token not in stop_words.ENGLISH_STOP_WORDS:\n",
        "      tokenized_doc.append(token)\n",
        "  return tokenized_doc\n",
        "\n",
        "tokenized_corpus = []\n",
        "for passage in tqdm(passages):\n",
        "  tokenized_corpus.append(bm25_tokenizer(passage))\n",
        "\n",
        "bm25 = BM25Okapi(tokenized_corpus)"
      ],
      "execution_count": null,
      "outputs": [
        {
          "output_type": "stream",
          "name": "stderr",
          "text": [
            "/usr/local/lib/python3.7/dist-packages/sklearn/utils/deprecation.py:144: FutureWarning: The sklearn.feature_extraction.stop_words module is  deprecated in version 0.22 and will be removed in version 0.24. The corresponding classes / functions should instead be imported from sklearn.feature_extraction.text. Anything that cannot be imported from sklearn.feature_extraction.text is now part of the private API.\n",
            "  warnings.warn(message, FutureWarning)\n"
          ]
        },
        {
          "output_type": "display_data",
          "data": {
            "application/vnd.jupyter.widget-view+json": {
              "model_id": "63115c5a4be6450faab344e8c2df19bb",
              "version_minor": 0,
              "version_major": 2
            },
            "text/plain": [
              "  0%|          | 0/169597 [00:00<?, ?it/s]"
            ]
          },
          "metadata": {}
        }
      ]
    },
    {
      "cell_type": "code",
      "metadata": {
        "id": "UlArb7kqN3Re"
      },
      "source": [
        "#This function will search all wikipedia articles for passages that\n",
        "#answer the query\n",
        "def search(query):\n",
        "  print(\"Input question:\", query)\n",
        "\n",
        "  #BM25 search (lexical search)\n",
        "  bm25_scores = bm25.get_scores(bm25_tokenizer(query))\n",
        "  top_n = np.argpartition(bm25_scores, -5)[-5:]\n",
        "  bm25_hits = [{'corpus_id': idx, 'score': bm25_scores[idx]} for idx in top_n]\n",
        "  bm25_hits = sorted(bm25_hits, key=lambda x: x['score'], reverse=True)\n",
        "  print(\"Top-5 lexical search (BM25) hits\")\n",
        "  for hit in bm25_hits[0:5]:\n",
        "      print(\"\\t{:.3f}\\t{}\".format(hit['score'], passages[hit['corpus_id']].replace(\"\\n\", \" \")))\n",
        "\n",
        "  ##### Sematic Search #####\n",
        "  #Encode the query using the bi-encoder and find potentially relevant passages\n",
        "  question_embedding = bi_encoder.encode(query, convert_to_tensor=True)\n",
        "  question_embedding = question_embedding.cuda()\n",
        "  hits = util.semantic_search(question_embedding, corpus_embeddings, top_k=top_k)\n",
        "  hits = hits[0]  # Get the hits for the first query\n",
        "\n",
        "  ##### Re-Ranking #####\n",
        "  #Now, score all retrieved passages with the cross_encoder\n",
        "  cross_inp = [[query, passages[hit['corpus_id']]] for hit in hits]\n",
        "  cross_scores = cross_encoder.predict(cross_inp)\n",
        "\n",
        "  #Sort results by the cross-encoder scores\n",
        "  for idx in range(len(cross_scores)):\n",
        "      hits[idx]['cross-score'] = cross_scores[idx]\n",
        "\n",
        "\n",
        "  #Output of top-5 hitt\n",
        "  print(\"Top-5 Bi-Encoder Retrieval hits\")\n",
        "  hits = sorted(hits, key=lambda x: x['score'], reverse=True)\n",
        "  for hit in hits[0:5]:\n",
        "      print(\"\\t{:.3f}\\t{}\".format(hit['score'], passages[hit['corpus_id']].replace(\"\\n\", \" \")))\n",
        "\n",
        "  print(\"Top-5 Cross-Encoder Re-ranker hits\")\n",
        "  hits = sorted(hits, key=lambda x: x['cross-score'], reverse=True)\n",
        "  for hit in hits[0:5]:\n",
        "      print(\"\\t{:.3f}\\t{}\".format(hit['cross-score'], passages[hit['corpus_id']].replace(\"\\n\", \" \")))"
      ],
      "execution_count": null,
      "outputs": []
    },
    {
      "cell_type": "code",
      "metadata": {
        "colab": {
          "base_uri": "https://localhost:8080/"
        },
        "id": "2J0Zxgw0artg",
        "outputId": "8dda11dd-6638-4ffe-cfa0-be25b717677d"
      },
      "source": [
        "search(query = \"What is the capital of the United States?\")"
      ],
      "execution_count": null,
      "outputs": [
        {
          "output_type": "stream",
          "name": "stdout",
          "text": [
            "Input question: What is the capital of the United States?\n",
            "Top-5 lexical search (BM25) hits\n",
            "\t13.316\tCapital punishment (the death penalty) has existed in the United States since before the United States was a country. As of 2017, capital punishment is legal in 30 of the 50 states. The federal government (including the United States military) also uses capital punishment.\n",
            "\t11.434\tOhio is one of the 50 states in the United States. Its capital is Columbus. Columbus also is the largest city in Ohio.\n",
            "\t11.179\tNevada is one of the United States' states. Its capital is Carson City. Other big cities are Las Vegas and Reno.\n",
            "\t11.057\tConnecticut is a state in the United States. Its capital is Hartford, and its largest city is Bridgeport.\n",
            "\t10.763\tVermont is a state in the United States. Its capital is the city of Montpelier, and its largest city is Burlington.\n",
            "Top-5 Bi-Encoder Retrieval hits\n",
            "\t0.622\tCities in the United States:\n",
            "\t0.597\tThe United States Capitol is the building where the United States Congress meets. It is the center of the legislative branch of the U.S. federal government. It is in Washington, D.C., on top of Capitol Hill at the east end of the National Mall.\n",
            "\t0.596\tIn the United States:\n",
            "\t0.570\tWashington, D.C. (also known as simply Washington or D.C., and officially as the District of Columbia) is the capital of the United States. It is a federal district. The President of the USA and many major national government offices are in the territory. This makes it the political center of the United States of America.\n",
            "\t0.557\tUnited States of America;\n",
            "Top-5 Cross-Encoder Re-ranker hits\n",
            "\t8.906\tWashington, D.C. (also known as simply Washington or D.C., and officially as the District of Columbia) is the capital of the United States. It is a federal district. The President of the USA and many major national government offices are in the territory. This makes it the political center of the United States of America.\n",
            "\t3.755\tA capital city (or capital town or just capital) is a city or town, specified by law or constitution, by the government of a country, or part of a country, such as a state, province or county. It usually serves as the location of the government's central meeting place and offices. Most of the country's leaders and officials work in the capital city.\n",
            "\t3.681\tThe United States Capitol is the building where the United States Congress meets. It is the center of the legislative branch of the U.S. federal government. It is in Washington, D.C., on top of Capitol Hill at the east end of the National Mall.\n",
            "\t3.573\tThe continental United States is the area of the United States of America that is located in the continent of North America. It includes 49 of the 50 states (48 of which are located south of Canada and north of Mexico, known as the \"lower 48 states\", the other being Alaska) and the District of Columbia, which contains the federal capital, Washington, D.C. The only state which is not part of this is Hawaii (as they are islands in the Pacific Ocean and not part of North America).\n",
            "\t2.480\tThe New York State Capitol is the capitol building of the U.S. state of New York. The New York State Legislature meets in this building. The building is in the state's capital city, Albany. It is part of the Empire State Plaza on State Street in Capitol Park.\n"
          ]
        }
      ]
    },
    {
      "cell_type": "code",
      "metadata": {
        "colab": {
          "base_uri": "https://localhost:8080/"
        },
        "id": "WawjqQBJa3FP",
        "outputId": "3e5ffe80-c023-422a-a955-f8238b5646ba"
      },
      "source": [
        "search(query = \"What is the best orchestra in the world?\")"
      ],
      "execution_count": null,
      "outputs": [
        {
          "output_type": "stream",
          "name": "stdout",
          "text": [
            "Input question: What is the best orchestra in the world?\n",
            "Top-5 lexical search (BM25) hits\n",
            "\t15.328\tThe BBC Symphony Orchestra is the main orchestra of the British Broadcasting Corporation. It is one of the best orchestras in Britain.\n",
            "\t15.320\tThe NHK Symphony Orchestra is a Japanese orchestra based in Tokyo, Japan. In Japanese it is written: NHK交響楽団, pronounced: Enueichikei Kōkyō Gakudan. When the orchestra was started in 1926 it was called \"New Symphony Orchestra\". It was the first large professional orchestra in Japan. Later, it changed its name to \"Japan Symphony Orchestra\". In 1951 it started to get money from the Japanese radio station NHK (Nippon Hōsō Kyōkai), so it changed its name again to the name it has now. It is thought of as the best orchestra in Japan. They have played in many parts of the world, including at the BBC Proms in London.\n",
            "\t14.079\tThe Bamberger Symphoniker (Bamberg Symphony Orchestra) is a world-famous orchestra from the city of Bamberg, Germany. It was formed in 1946. Most of the musicians who formed the orchestra were Germans who had been forced to leave Czechoslovakia after the World War II. Most of them had previously been members of the German Philharmonic Orchestra of Prague.\n",
            "\t14.059\tThe National Arts Centre Orchestra is an orchestra in Ottawa, Canada's capital. Since 1998 their conductor (musical director) has been Pinchas Zukerman. The orchestra was started in 1969. It has made more than 40 recordings and toured widely throughout the world.\n",
            "\t13.599\tThe Hallé is an orchestra based in Manchester, England. It is the UK's oldest symphony orchestra and the fourth oldest in the world. Since 1996 its home is in the Bridgewater Hall, Manchester.\n",
            "Top-5 Bi-Encoder Retrieval hits\n",
            "\t0.701\tThe Vienna Philharmonic (in German: die Wiener Philharmoniker) is an orchestra based in Vienna, Austria. It is thought of as one of the greatest orchestras in the world.\n",
            "\t0.641\tThe Vienna Symphony () is an orchestra in Vienna, Austria.\n",
            "\t0.640\tThe Berlin Philharmonic (in German: Die Berliner Philharmoniker), is an orchestra from Berlin, Germany. It is one of the greatest orchestras in the world. The conductor of the orchestra is Sir Simon Rattle.\n",
            "\t0.612\tThe Cleveland Orchestra is an American orchestra based in Cleveland, Ohio. Their conductor is Franz Welser-Möst.\n",
            "\t0.599\tThe London Symphony Orchestra (LSO) is one of the most famous orchestras of the world. They are based in London's Barbican Centre, but they often tour to lots of different countries.\n",
            "Top-5 Cross-Encoder Re-ranker hits\n",
            "\t5.952\tThe London Symphony Orchestra (LSO) is one of the most famous orchestras of the world. They are based in London's Barbican Centre, but they often tour to lots of different countries.\n",
            "\t5.794\tThe Vienna Philharmonic (in German: die Wiener Philharmoniker) is an orchestra based in Vienna, Austria. It is thought of as one of the greatest orchestras in the world.\n",
            "\t5.324\tThe Berlin Philharmonic (in German: Die Berliner Philharmoniker), is an orchestra from Berlin, Germany. It is one of the greatest orchestras in the world. The conductor of the orchestra is Sir Simon Rattle.\n",
            "\t3.772\tThe European Union Youth Orchestra (EUYO) is an orchestra for young people from countries in the European Union. The orchestra is given money by the European Union and by a number of EU member states. It gives young players experience at working together with some of the world's best music teachers and conductors.\n",
            "\t3.518\tThe BBC Symphony Orchestra is the main orchestra of the British Broadcasting Corporation. It is one of the best orchestras in Britain.\n"
          ]
        }
      ]
    },
    {
      "cell_type": "code",
      "metadata": {
        "colab": {
          "base_uri": "https://localhost:8080/"
        },
        "id": "Ei9Q1roSa9GE",
        "outputId": "2b625e8c-4706-4f77-e978-d4ce2c82b7ab"
      },
      "source": [
        "search(query = \"Number countries Europe\")"
      ],
      "execution_count": null,
      "outputs": [
        {
          "output_type": "stream",
          "name": "stdout",
          "text": [
            "Input question: Number countries Europe\n",
            "Top-5 lexical search (BM25) hits\n",
            "\t13.795\tAmy MacDonald is a Scottish singer and songwriter. She became famous in 2007 with her first album \"This Is The Life\" and her first single \"Poison Prince\". She has become even more successful in Europe since her single \"This Is The Life\" charted at number 1 in many European countries.\n",
            "\t13.758\tThe Croatian language is spoken mainly throughout the countries of Croatia and Bosnia and Herzegovina and in the surrounding countries of Europe.\n",
            "\t13.019\tOrganization for Security and Co-operation in Europe (OSCE) is an international organization for peace and human rights. Presently, it has 57 countries as its members. Most of the member countries of the OSCE are from Europe, the Caucasus, Central Asia and North America.\n",
            "\t12.919\tThe Paneuropean Union was a movement to join the countries of Europe. It was founded in 1923.\n",
            "\t12.707\tThe decimal separator is a symbol used to mark the border between the integral and the fractional parts of a decimal numeral. This symbol can be a period (\".\"), as is common in United States and other English-speaking countries, or a comma (\",\"), as in continental Europe. Decimal point and decimal comma are also common names for the decimal separator. For example, 9.5 means nine and one half in English speaking countries, while in many European countries, the same number might be written as 9,5.\n",
            "Top-5 Bi-Encoder Retrieval hits\n",
            "\t0.538\tThe Council of Europe (, ) is an international organization of 47 member states in the European region. One of its first successes was the European Convention on Human Rights in 1950, which serves as the basis for the European Court of Human Rights.\n",
            "\t0.531\tEngland is a country in Europe. It is a country with over sixty cities in it. It is in a union with Scotland, Wales and Northern Ireland. All four countries are in the British Isles and are part of the United Kingdom (UK).\n",
            "\t0.507\tEurope is a Swedish rock band. The band was started by Joey Tempest and John Norum in 1979. Their song \"The Final Countdown\" was a big hit in 1986.\n",
            "\t0.497\tThe Schengen Area is an area that includes 26 European countries. All of those countries have signed the Schengen Agreement in Schengen, Luxembourg in 1985.\n",
            "\t0.496\tLuxembourg is a country in Western Europe; its official name is the Grand Duchy of Luxembourg (, , ). It is a small country in land area. It was one of the first countries in the European Union. It is also a member of the Benelux. The countries next to Luxembourg are Belgium, Germany, and France. In 2015, its population was 569,700, making it one of Europe's most densely populated countries.\n",
            "Top-5 Cross-Encoder Re-ranker hits\n",
            "\t5.199\tThe European Union (abbreviation: EU) is a confederation of 27 member countries in Europe established by the Maastricht Treaty in 1992-1993. The EU grew out of the European Economic Community (EEC) which was established by the Treaties of Rome in 1957. It has created a common economic area with Europe-wide laws allowing the citizens of EU countries to move and trade in other EU countries almost the same as they do in their own. Nineteen of these countries also share the same type of money: the euro.\n",
            "\t3.202\tA European Union member state is any one of the twenty-seven countries that have joined the European Union (EU) since it was found in 1958 as the European Economic Community (EEC). From an original membership of six states, there have been five successive enlargements. The largest happened on 1 May 2004, when ten member states joined.\n",
            "\t2.798\tThe Schengen Area is an area that includes 26 European countries. All of those countries have signed the Schengen Agreement in Schengen, Luxembourg in 1985.\n",
            "\t2.686\tThe Council of Europe (, ) is an international organization of 47 member states in the European region. One of its first successes was the European Convention on Human Rights in 1950, which serves as the basis for the European Court of Human Rights.\n",
            "\t2.019\tThe 2009 European Parliament Election was held in all 27 countries that are part of the European Union on 4 June 2009. In the United Kingdom, 72 Members of the European Parliament (MEPs) were elected using proportional representation.\n"
          ]
        }
      ]
    },
    {
      "cell_type": "code",
      "metadata": {
        "colab": {
          "base_uri": "https://localhost:8080/"
        },
        "id": "YVQyKpIjbSdC",
        "outputId": "e6a40338-dd32-4d12-a68f-1f9173e43cad"
      },
      "source": [
        "search(query = \"When did the cold war end?\")"
      ],
      "execution_count": null,
      "outputs": [
        {
          "output_type": "stream",
          "name": "stdout",
          "text": [
            "Input question: When did the cold war end?\n",
            "Top-5 lexical search (BM25) hits\n",
            "\t17.374\tThe Cold War was the tense relationship between the United States (and its allies), and the Soviet Union (the USSR and its allies) between the end of World War II and the fall of the Soviet Union. It is called the \"Cold\" War because the US and the USSR never actually fought each other directly. Instead, they opposed each other in conflicts known as proxy wars, where each country chose a side to support.\n",
            "\t17.291\tThe Reagan Doctrine was a document by the United States under the Reagan Administration. It was about being against the global influence of the Soviet Union during the final years of the Cold War. The doctrine lasted for less than a decade, it was the most important document of United States foreign policy from the early 1980s until the end of the Cold War in 1991.\n",
            "\t15.420\tCold Norton is a village and civil parish in Maldon District, Essex, England. In 2001 there were 1103 people living in Cold Norton. Cold Norton is at the south-east end of the Danbury Ridge.\n",
            "\t13.897\tThe Red Scare was the fear of communism taking over. It began during the start of the Cold War.\n",
            "\t13.528\tThe 1973 Chilean coup d'état was a critical moment in both the history of Chile and the Cold War.\n",
            "Top-5 Bi-Encoder Retrieval hits\n",
            "\t0.613\tThe Cold War was the tense relationship between the United States (and its allies), and the Soviet Union (the USSR and its allies) between the end of World War II and the fall of the Soviet Union. It is called the \"Cold\" War because the US and the USSR never actually fought each other directly. Instead, they opposed each other in conflicts known as proxy wars, where each country chose a side to support.\n",
            "\t0.557\tThe Continuation War was a war between Finland and the Soviet Union. It was fought between June 25, 1941 and September 19, 1944. It continued the Winter War. Nazi Germany helped Finland as part of the Eastern Front (World War II). The ceasefire started on September 4 at 7.00 am in the Finnish side. The Soviet Union's ceasefire started on September 5. The first peace treaty was signed on September 19 and the final one on February 10, 1947 in Paris.\n",
            "\t0.548\tThe Winter War (30 November 1939 - 13 March 1940) was a conflict fought between the Soviet Union and Finland. It began when the Soviet Union tried to invade Finland soon after the Invasion of Poland. The Soviet military forces expected a victory over Finland in a few weeks, because the Soviet army had many more tanks and planes than the Finnish army.\n",
            "\t0.510\tA speech was made by American President Harry S. Truman to the U.S. Congress on 12 March 1947. In this speech he said he thought that The United States should help Greece and Turkey to stop them being 'Totalitarianists' although he meant Soviet Communism. This became known as the Truman Doctrine. Some Historians believe that this was the start of the Cold War.\n",
            "\t0.509\tThis is Timeline of World War II, which shows the event linked to World War II during 1931-1945.\n",
            "Top-5 Cross-Encoder Re-ranker hits\n",
            "\t5.203\tThe Cold War was the tense relationship between the United States (and its allies), and the Soviet Union (the USSR and its allies) between the end of World War II and the fall of the Soviet Union. It is called the \"Cold\" War because the US and the USSR never actually fought each other directly. Instead, they opposed each other in conflicts known as proxy wars, where each country chose a side to support.\n",
            "\t2.531\tA speech was made by American President Harry S. Truman to the U.S. Congress on 12 March 1947. In this speech he said he thought that The United States should help Greece and Turkey to stop them being 'Totalitarianists' although he meant Soviet Communism. This became known as the Truman Doctrine. Some Historians believe that this was the start of the Cold War.\n",
            "\t2.079\tThe Sino-Soviet split (1960–1989) was a time when the relations between the People's Republic of China and the Soviet Union weakened during the Cold War. Eventually, China's leader, Mao Zedong, decided to break the alliance with the Soviet Union.\n",
            "\t2.034\tThe Washington Summit of 1987 was Cold War-era summit meeting between U.S. president Ronald Reagan and General Secretary of the Communist Party of the Soviet Union Mikhail Gorbachev. It took place between December 8-10 in Washington, D.C..\n",
            "\t1.551\tThe Six-Day War was a war that started on 5 June 1967 and ended 10 June 1967. The fight was between Israel and Egypt, Jordan, and Syria, but many other countries helped out the different sides.\n"
          ]
        }
      ]
    },
    {
      "cell_type": "code",
      "metadata": {
        "colab": {
          "base_uri": "https://localhost:8080/"
        },
        "id": "iVomHSSsbcut",
        "outputId": "658752d1-bd0b-48be-c7df-6d6ce4179568"
      },
      "source": [
        "search(query = \"How long do cats live?\")"
      ],
      "execution_count": null,
      "outputs": [
        {
          "output_type": "stream",
          "name": "stdout",
          "text": [
            "Input question: How long do cats live?\n",
            "Top-5 lexical search (BM25) hits\n",
            "\t22.997\tReliable information on the lifespans of house cats is hard to find. However, research has been done to get an estimate (an educated guess) on how long cats usually live. Cats usually live for 13 to 20 years. Sometimes cats can live for 22 to 30 years but there are claims of cats dying at ages of more than 30 years old.\n",
            "\t16.974\tThe sabertoothed cats or sabretooth cats are some of the best known and most popular extinct animals. They are among the most impressive carnivores that ever have lived. These cats had long canines and jaws which opened wider than modern cats. This suggests a different style of killing from modern felines.\n",
            "\t16.490\tThe Cyprus cat is a breed of cat. These cats are thought to have first come from ancient Egypt or Palestine. They were brought to the island of Cyprus by St. Helen. These are now common domestic cats that live in homes or outside. Many of these cats still live all over Cyprus. But, a large number are now feral. This means they are not tame and they run wild.\n",
            "\t14.230\tA whisker is a long, thick hair around the mouth of some animals, mostly mammals such as cats and mice, that the animal uses to feel its surroundings. Some animals, such as cats, also have whiskers above their eyes and on the backs of their legs. Unlike other hair, whiskers should never be cut or trimmed, as this can confuse the animal.\n",
            "\t13.572\tPumas (\"Puma concolor\"), also called cougars, mountain lions or brown panthers, are large wild cats that live in the western half of North America, along with Florida, and most of Central and South America. Pumas are mainly tan-color, and can be up to 9 feet long, although average length is 6 – 8 feet. They can weigh from 29 kilograms to 90 kilograms. (The males are larger.) Most pumas live up to 21 years. Although pumas are very large and some are larger than humans, the puma is classified as a small cat. That means that, in scientific terms, the puma is more closely related to the domestic cat than they are to lions. Unlike the big cats in the genus \"Panthera\", the puma cannot roar. Instead, it can growl, hiss, screech, and purr. Since pumas are, in the biological sense, small cats, they are capable of purring continuously. The big cats can only purr while breathing out.\n",
            "Top-5 Bi-Encoder Retrieval hits\n",
            "\t0.765\tReliable information on the lifespans of house cats is hard to find. However, research has been done to get an estimate (an educated guess) on how long cats usually live. Cats usually live for 13 to 20 years. Sometimes cats can live for 22 to 30 years but there are claims of cats dying at ages of more than 30 years old.\n",
            "\t0.531\tCreme Puff (August 3, 1967 - August 10, 2005) was a female cat who died in 2005 at the age of 38. She was the oldest cat ever recorded, according to the 2010 edition of \"Guinness World Records\".\n",
            "\t0.508\tThe cat righting reflex is a cat's natural ability to turn itself around as it falls so it will land on its feet. This righting reflex starts to happen at 3–4 weeks of age. The cat has entirely learned how to do this by 6–7 weeks. Cats are able to do this because they have a flexible backbone and a clavicle that does not move. The minimum height needed for this to happen safely in most cats is about 12 inches.\n",
            "\t0.500\tBobcat (\"Lynx rufus\") are fierce cats that live in forests, swamps, mountains, prairie, and deserts in much of North America. Bobcats are generally nocturnal (most active at night), but are most active at dawn and dusk. They spend the day in their den (a cave, hollow log or rock crevice). They are very good climbers and swimmers. Bobcats are eaten by cougars, coyotes, wolves, and bears. Bobcats usually live from 10 to 14 years. Bobcats and lynxes are closely related.\n",
            "\t0.490\tRubble (5 May 1989 – 3 July 2020) was a domestic cat owned by Michelle Foster of Exeter, Devon, England. Foster bought the cat as a kitten on or near her 20th birthday. Rubble, a Maine Coon-type cat, turned 31 in May 2020 and was from 3 January 2020 until her death the world's oldest verified living cat.\n",
            "Top-5 Cross-Encoder Re-ranker hits\n",
            "\t10.431\tReliable information on the lifespans of house cats is hard to find. However, research has been done to get an estimate (an educated guess) on how long cats usually live. Cats usually live for 13 to 20 years. Sometimes cats can live for 22 to 30 years but there are claims of cats dying at ages of more than 30 years old.\n",
            "\t2.998\tThe sand cat (\"Felis margarita\") is a small wild cat in the Felinae subfamily. It is distributed over African and Asian deserts. Sometimes people call it \"desert cat,\" but that is really the name of a different animal. The sand cat does live in deserts, even the Sahara and Arabian Desert. It is also found in Iran and Pakistan. In zoos, this cat can live for up to 13 years.\n",
            "\t2.348\tBobcat (\"Lynx rufus\") are fierce cats that live in forests, swamps, mountains, prairie, and deserts in much of North America. Bobcats are generally nocturnal (most active at night), but are most active at dawn and dusk. They spend the day in their den (a cave, hollow log or rock crevice). They are very good climbers and swimmers. Bobcats are eaten by cougars, coyotes, wolves, and bears. Bobcats usually live from 10 to 14 years. Bobcats and lynxes are closely related.\n",
            "\t1.285\tPumas (\"Puma concolor\"), also called cougars, mountain lions or brown panthers, are large wild cats that live in the western half of North America, along with Florida, and most of Central and South America. Pumas are mainly tan-color, and can be up to 9 feet long, although average length is 6 – 8 feet. They can weigh from 29 kilograms to 90 kilograms. (The males are larger.) Most pumas live up to 21 years. Although pumas are very large and some are larger than humans, the puma is classified as a small cat. That means that, in scientific terms, the puma is more closely related to the domestic cat than they are to lions. Unlike the big cats in the genus \"Panthera\", the puma cannot roar. Instead, it can growl, hiss, screech, and purr. Since pumas are, in the biological sense, small cats, they are capable of purring continuously. The big cats can only purr while breathing out.\n",
            "\t-0.159\tThe cat righting reflex is a cat's natural ability to turn itself around as it falls so it will land on its feet. This righting reflex starts to happen at 3–4 weeks of age. The cat has entirely learned how to do this by 6–7 weeks. Cats are able to do this because they have a flexible backbone and a clavicle that does not move. The minimum height needed for this to happen safely in most cats is about 12 inches.\n"
          ]
        }
      ]
    },
    {
      "cell_type": "code",
      "metadata": {
        "colab": {
          "base_uri": "https://localhost:8080/"
        },
        "id": "QIkvohZ8bxMu",
        "outputId": "39876607-bd70-4eee-fa10-21ede73611be"
      },
      "source": [
        "search(query = \"How many people live in Paris?\")"
      ],
      "execution_count": null,
      "outputs": [
        {
          "output_type": "stream",
          "name": "stdout",
          "text": [
            "Input question: How many people live in Paris?\n",
            "Top-5 lexical search (BM25) hits\n",
            "\t16.530\tLive à Paris (English: \"Live in Paris\") is a live album by Canadian singer Céline Dion.\n",
            "\t15.147\tÎle-de-France is a region of France. The capital city is Paris. It is also the capital city of France. In 2013 about 12 million people lived in the region. About 2.1 million people live in the city of Paris.\n",
            "\t14.660\tGennevilliers is a town in France near Paris. It is in the region Île-de-France and the department of Hauts-de-Seine. About 41,000 people live there.\n",
            "\t14.445\tParis (nicknamed the \"\"City of light\"\") is the capital city of France, and the largest city in France. The area is , and around 2.15 million people live there. If suburbs are counted, the population of the Paris area rises to 12 million people.\n",
            "\t14.300\tVal-d'Oise is a department to the north of Paris in the Île-de-France region. Its prefecture is Cergy. About 1,139,000 people live there (2006 estimation).\n",
            "Top-5 Bi-Encoder Retrieval hits\n",
            "\t0.686\tParis (nicknamed the \"\"City of light\"\") is the capital city of France, and the largest city in France. The area is , and around 2.15 million people live there. If suburbs are counted, the population of the Paris area rises to 12 million people.\n",
            "\t0.613\tParis is a town in Ontario, Canada. It is where Grand and Nith Rivers come together. It is west of Toronto. It has a population of over 10,000 people. These people normally work in the nearby cities such as Kitchener, Brantford and London.\n",
            "\t0.608\tParis is a city in the U.S. state of Tennessee. It had a population of 25,171 in 2010. It has been called the \"World's Biggest Fish Fry\". It has a 70-foot replica of the Eiffel Tower.\n",
            "\t0.569\tParis is a city in Idaho in the United States.\n",
            "\t0.562\tAs of January 1, 2010, about 164,294 people lived there. That was 295.83 people per km². The total area is 555.35 km².\n",
            "Top-5 Cross-Encoder Re-ranker hits\n",
            "\t9.703\tParis (nicknamed the \"\"City of light\"\") is the capital city of France, and the largest city in France. The area is , and around 2.15 million people live there. If suburbs are counted, the population of the Paris area rises to 12 million people.\n",
            "\t7.822\tÎle-de-France is a region of France. The capital city is Paris. It is also the capital city of France. In 2013 about 12 million people lived in the region. About 2.1 million people live in the city of Paris.\n",
            "\t7.041\tParis is a town in Ontario, Canada. It is where Grand and Nith Rivers come together. It is west of Toronto. It has a population of over 10,000 people. These people normally work in the nearby cities such as Kitchener, Brantford and London.\n",
            "\t6.371\tSeine was a département in France. It was created as \"Paris\" in 1790, and renamed to Seine in 1795. On the 1st of January 1968 it was abolished, together with the departement Seine-et-Oise which surrounded it. The area was distributed into 4 departements, Paris, Hauts-de-Seine, Seine-Saint-Denis, and Val-de-Marne. In 1968, about 5.7 million people lived in the area; about 2.5 million lived in the city of Paris.\n",
            "\t6.139\tParis is a city in the U.S. state of Tennessee. It had a population of 25,171 in 2010. It has been called the \"World's Biggest Fish Fry\". It has a 70-foot replica of the Eiffel Tower.\n"
          ]
        }
      ]
    },
    {
      "cell_type": "code",
      "metadata": {
        "colab": {
          "base_uri": "https://localhost:8080/"
        },
        "id": "MpWjJtL_iFBG",
        "outputId": "5513a1aa-4f9b-4b7d-a67d-c6abfe597ef7"
      },
      "source": [
        "search(query = \"Oldest US president\")"
      ],
      "execution_count": null,
      "outputs": [
        {
          "output_type": "stream",
          "name": "stdout",
          "text": [
            "Input question: Oldest US president\n",
            "Top-5 lexical search (BM25) hits\n",
            "\t11.010\tGlafcos Ioannou Clerides (; 24 April 1919 – 15 November 2013) was a Greek-Cypriot politician. He was the fourth President of Cyprus. He was the oldest living former President of the Republic of Cyprus.\n",
            "\t9.237\tJosé Celso de Mello Filho (Tatuí, November 1, 1945), is a Brazilian jurist. He is the oldest member of the Supreme Federal Court of Brazil. He was nominated by President José Sarney in 1989.\n",
            "\t8.872\tUSS \"Constitution\" is a wooden, three-masted heavy frigate of the United States Navy. Named by President George Washington after the Constitution of the United States of America, she is the world's oldest commissioned naval vessel afloat.\n",
            "\t8.869\tRichard Arvin Overton (May 11, 1906 – December 27, 2018) was an American supercentenarian. He was the oldest verified surviving American World War II veteran, as well as the oldest American man. In 2013 he was honored by President Barack Obama. On that same Memorial Day, Overton met with Texas Governor Rick Perry. He was born in Bastrop County, Texas.\n",
            "\t8.573\tReverend Samuel Akinbode Sadela (Ifon Osun, 25 August 1900? - Lagos, 26 August 2014) was a Nigerian pastor and an unverified claimant for the world's oldest man. If his age is true, he would have been the oldest living man, the oldest living person in Africa, the oldest person in Nigeria, and the 10th oldest living person. Sadela is also known for being married at 107 years old to a 30 years old woman.\n",
            "Top-5 Bi-Encoder Retrieval hits\n",
            "\t0.645\tWilliam Henry Harrison (February 9, 1773 – April 4, 1841) was the 9th President of the United States. His nickname was \"Old Tippecanoe \" and he was a well-respected war veteran. Harrison served the shortest term of any United States President. His term lasted for exactly one month.\n",
            "\t0.624\tRichard Arvin Overton (May 11, 1906 – December 27, 2018) was an American supercentenarian. He was the oldest verified surviving American World War II veteran, as well as the oldest American man. In 2013 he was honored by President Barack Obama. On that same Memorial Day, Overton met with Texas Governor Rick Perry. He was born in Bastrop County, Texas.\n",
            "\t0.620\tAlben William Barkley (November 24, 1877 – April 30, 1956) was a Democratic member of the U.S. House of Representatives and the United States Senate from Paducah, Kentucky, majority leader of the Senate, and the thirty-fifth Vice President of the United States. He was the oldest Vice President of the United States at the age of . He ran for president in 1952, however the Democratic Party primaries had nominated Adlai Stevenson II instead and labor union leaders rejected him to run because of old age (74).\n",
            "\t0.616\tJohn Tyler (March 29, 1790 – January 18, 1862) was the 10th President of the United States of America, from 1841 to 1845. He was the first vice president to become president after the president before him died. He was also the first President born after the United States Constitution was ratified.\n",
            "\t0.610\tFrancisco Núñez Olivera (13 December 1904 – 29 January 2018), age 113 years, 47 days, for a brief time was recognized as the oldest man in the world. He was born at Extremadura, and joined the army at 19 to fight in the Rif War.\n",
            "Top-5 Cross-Encoder Re-ranker hits\n",
            "\t6.089\tAlben William Barkley (November 24, 1877 – April 30, 1956) was a Democratic member of the U.S. House of Representatives and the United States Senate from Paducah, Kentucky, majority leader of the Senate, and the thirty-fifth Vice President of the United States. He was the oldest Vice President of the United States at the age of . He ran for president in 1952, however the Democratic Party primaries had nominated Adlai Stevenson II instead and labor union leaders rejected him to run because of old age (74).\n",
            "\t5.538\tRichard Arvin Overton (May 11, 1906 – December 27, 2018) was an American supercentenarian. He was the oldest verified surviving American World War II veteran, as well as the oldest American man. In 2013 he was honored by President Barack Obama. On that same Memorial Day, Overton met with Texas Governor Rick Perry. He was born in Bastrop County, Texas.\n",
            "\t4.702\tJohn Nance Garner IV nicknamed \"Cactus Jack\" (November 22, 1868 – November 7, 1967) was the forty-fourth Speaker of the United States House of Representatives (1931-33) and the thirty-second Vice President of the United States (1933-41). Garner once described the Vice-Presidency as being \"not worth a bucket of warm spit.\" Also, he lived to be 98 years old. That made him the oldest former Vice President of the United States.\n",
            "\t3.653\tJohn Fitzgerald Kennedy (May 29, 1917 – November 22, 1963), often called JFK and Jack, was the 35th President of the United States. He was in office from 1961 until his assassination in 1963. He was the youngest President elected to the office, at the age of 43. Events during his presidency included the Bay of Pigs Invasion, the Cuban Missile Crisis, the building of the Berlin Wall, the Space Race, the Civil Rights Movement, and early stages of the Vietnam War. He was the youngest President of the United States to die in office.\n",
            "\t2.813\tDonald Hebb Rumsfeld (born 9 July 1932) is a United States businessman and politician. Rumsfeld was the 13th United States Secretary of Defense under President Gerald Ford from 1975 to 1977, and the 21st Secretary of Defense under President George W. Bush from 2001 to 2006. He is both the youngest (43 years old) and the oldest (74 years old) person to have held the position, as well as the only person to have held the position for two non-consecutive terms. Rumsfeld is also the second longest serving Secretary of Defense, behind Robert McNamara.\n"
          ]
        }
      ]
    },
    {
      "cell_type": "code",
      "metadata": {
        "colab": {
          "base_uri": "https://localhost:8080/"
        },
        "id": "zo3NOayXiQME",
        "outputId": "084997e3-0064-4006-bdc9-c20818bc2aa5"
      },
      "source": [
        "search(query = \"Coldest place earth\")"
      ],
      "execution_count": null,
      "outputs": [
        {
          "output_type": "stream",
          "name": "stdout",
          "text": [
            "Input question: Coldest place earth\n",
            "Top-5 lexical search (BM25) hits\n",
            "\t24.891\tEast Antarctica, also called Greater Antarctica, is the largest part (two-thirds) of the Antarctic continent. It is on the Indian Ocean side of the Transantarctic Mountains. It is the coldest, windiest, and driest part of Earth. East Antarctica holds the record as the coldest place on earth.\n",
            "\t12.650\tEarth Day is a day that is supposed to inspire more awareness and appreciation for the Earth's natural environment. It takes place each year on April 22. It now takes place in more than 193 countries around the world. During Earth Day, the world encourages everyone to turn off all unwanted lights.\n",
            "\t12.172\tHeinrich events occurred during the coldest point of \"Bond Cycles\" in which many icebergs were discharged into the North Atlantic and melted.\n",
            "\t11.926\tTopography means \"the description of shape\". The word comes from Greek: ' \"place\" and ' \"(I) write\". It is an important part of earth science.\n",
            "\t11.873\tWinter is one of the four seasons and the coldest time of the year. The days are shorter and the nights are longer. Winter comes after autumn and before spring.\n",
            "Top-5 Bi-Encoder Retrieval hits\n",
            "\t0.633\tEast Antarctica, also called Greater Antarctica, is the largest part (two-thirds) of the Antarctic continent. It is on the Indian Ocean side of the Transantarctic Mountains. It is the coldest, windiest, and driest part of Earth. East Antarctica holds the record as the coldest place on earth.\n",
            "\t0.556\tThe North Pole is the point that is farthest north on Earth. It is the point on which axis of Earth turns. It is in the Arctic Ocean and it is cold there because the sun does not shine there for about half a year and never rises very high. The ocean around the pole is always very cold and it is covered by a thick sheet of ice.\n",
            "\t0.516\tPlaces with a subarctic climate (also called boreal climate) have long, usually very cold winters, and short, warm summers. It is found on large landmasses, away from oceans, usually at latitudes from 50° to 70°N. Because there are no large landmasses at such latitudes in the Southern Hemisphere, it is only found at high \"altitudes \"(heights) in the Andes and the mountains of Australia and New Zealand's South Island. These climates are in groups \"Dfc\", \"Dwc\", \"Dfd\" and \"Dwd\" in the Köppen climate classification\n",
            "\t0.507\tIn geography, temperate latitudes of the Earth lie between the subtropics and the polar circles. Average yearly temperatures in these regions are not extreme, not burning hot nor freezing cold. Temperate means moderate.\n",
            "\t0.500\tIn physics, absolute zero (0 K) is the coldest temperature. At that point, subatomic particles stop moving (entropy is at its minimum). Certain things can reach temperatures below absolute zero, known as negative temperatures. This is very difficult to do, and only very small objects can reach negative temperatures.\n",
            "Top-5 Cross-Encoder Re-ranker hits\n",
            "\t6.129\tEast Antarctica, also called Greater Antarctica, is the largest part (two-thirds) of the Antarctic continent. It is on the Indian Ocean side of the Transantarctic Mountains. It is the coldest, windiest, and driest part of Earth. East Antarctica holds the record as the coldest place on earth.\n",
            "\t0.594\tThe Arctic is the area around the Earth's North Pole. The Arctic includes parts of Russia, Alaska, Canada, Greenland, Lapland and Svalbard as well as the Arctic Ocean. It is an ocean, mostly covered with ice. Most scientists call the area north of the treeline Arctic. Trees will not grow when the temperatures get too cold. The forests of the continents stop when they get too far north or too high up a mountain. (Higher places are colder, too.) The place where in the trees stop is called the tree line.\n",
            "\t0.215\tThe North Pole is the point that is farthest north on Earth. It is the point on which axis of Earth turns. It is in the Arctic Ocean and it is cold there because the sun does not shine there for about half a year and never rises very high. The ocean around the pole is always very cold and it is covered by a thick sheet of ice.\n",
            "\t0.006\tIn physics, absolute zero (0 K) is the coldest temperature. At that point, subatomic particles stop moving (entropy is at its minimum). Certain things can reach temperatures below absolute zero, known as negative temperatures. This is very difficult to do, and only very small objects can reach negative temperatures.\n",
            "\t-2.146\tThe inner core is the very center of the Earth, and the hottest part of the planet. It is a mainly a solid ball with a radius of about , according to seismological studies. It is believed to consist mostly of an iron–nickel alloy and to be about the same temperature as the surface of the Sun: about 5700 K (5400 °C).\n"
          ]
        }
      ]
    },
    {
      "cell_type": "code",
      "metadata": {
        "colab": {
          "base_uri": "https://localhost:8080/"
        },
        "id": "EJ3OqA32ie_s",
        "outputId": "13ab85f7-2f86-4414-87d5-acd035388299"
      },
      "source": [
        "search(query = \"Elon Musk year birth\")"
      ],
      "execution_count": null,
      "outputs": [
        {
          "output_type": "stream",
          "name": "stdout",
          "text": [
            "Input question: Elon Musk year birth\n",
            "Top-5 lexical search (BM25) hits\n",
            "\t23.364\tTesla, Inc. is a company based in Palo Alto, California which makes electric cars. It was started in 2003 by Martin Eberhard, Dylan Stott, and Elon Musk (who also co-founded PayPal and SpaceX and is the CEO of SpaceX). Eberhard no longer works there. Today, Elon Musk is the Chief Executive Officer (CEO). It started selling its first car, the Roadster in 2008.\n",
            "\t19.943\tThe Boring Company is a tunnel boring company founded by Elon Musk, who earlier started SpaceX. It aims to reduce traffic congestion in urban areas. It is involved in the building of the Hyperloop in Los Angeles.\n",
            "\t18.392\tElon Reeve Musk (born June 28, 1971) is a businessman and philanthropist. He was born in South Africa. He moved to Canada and later became an American citizen. Musk is the current CEO & Chief Product Architect of Tesla Motors, a company that makes electric vehicles. He is also the CEO of Solar City, a company that makes solar panels, and the CEO & CTO of SpaceX, an aerospace company. In August 2020, Bloomberg ranked Musk third among the richest people on the planet with net worth to be $115.4 billion.\n",
            "\t17.197\tMusk deer are a group of even-toed ungulate mammals. They form the family Moschidae. There are four species of musk deer, but they are all very similar. Musk deer are more primitive than true deer.\n",
            "\t16.809\tTED is short for \"Technology, Entertainment, Design\". It is a conference that began in 1984 and met every year at Long Beach, California until 2014. Since then, it has met in Vancouver. People give talks about many things, for example, science, art, and business. Famous people like Bill Clinton, Al Gore, Ray Kurzweil, Aubrey de Grey, Elon Musk, and Bill Gates have all talked at TED. The talks have been online for people to watch for free since 2006.\n",
            "Top-5 Bi-Encoder Retrieval hits\n",
            "\t0.574\tElon Reeve Musk (born June 28, 1971) is a businessman and philanthropist. He was born in South Africa. He moved to Canada and later became an American citizen. Musk is the current CEO & Chief Product Architect of Tesla Motors, a company that makes electric vehicles. He is also the CEO of Solar City, a company that makes solar panels, and the CEO & CTO of SpaceX, an aerospace company. In August 2020, Bloomberg ranked Musk third among the richest people on the planet with net worth to be $115.4 billion.\n",
            "\t0.471\tMuraoka was born on June 21, 1893, in Kofu, Yamanashi Prefecture. Her birth name was Hana Annaka. Her parents were Methodists. She was raised as a Christian. She studied at the Tokyo Eiwa Jogakuin. She began writing children's stories when she was encouraged by translator Hiroko Katayama. She graduated from school in 1913.\n",
            "\t0.467\tJose Alves dos Santos Júnior (born July 29, 1969) is a former Brazilian football player.\n",
            "\t0.467\tHe was born at New York Hospital in New York City, He is the son of John Lennon and his second wife Yoko Ono. He is Japanese on his mother's side and English, Welsh and Irish on his father's side. This makes him Eurasian. He has the same birthday as his father.\n",
            "\t0.466\tMuid Latif (24 February 1979 – 11 April 2020) was a Malaysian-based web designer, graphic designer and digital artist. He was known for promoting the cultural elements of the Southeast Asia from Batik and Songket into his commercial works and artworks.\n",
            "Top-5 Cross-Encoder Re-ranker hits\n",
            "\t7.449\tElon Reeve Musk (born June 28, 1971) is a businessman and philanthropist. He was born in South Africa. He moved to Canada and later became an American citizen. Musk is the current CEO & Chief Product Architect of Tesla Motors, a company that makes electric vehicles. He is also the CEO of Solar City, a company that makes solar panels, and the CEO & CTO of SpaceX, an aerospace company. In August 2020, Bloomberg ranked Musk third among the richest people on the planet with net worth to be $115.4 billion.\n",
            "\t-2.518\tNour El-Sherif (; 28 April 1946 – 11 August 2015) was a Egyptian actor. His birth name is Mohamad Geber Mohamad ِAbd Allah (Arabic: محمد جابر محمد عبد الله). El-Sherif was born in the working-class neighbourhood of Sayeda Zainab in Cairo (). He was known for his conspiracy theories about the Holocaust and the September 11 attacks.\n",
            "\t-3.395\tDonald Lusk (October 28, 1913 – December 30, 2018) was an American retired animator and director. He worked for The Walt Disney Company.\n",
            "\t-4.171\tOlly Murs (born 14 May 1984) is an English singer. He comes from Witham, Essex. He became famous after he finished second in The X Factor in 2009.\n",
            "\t-4.307\tAron Afshar (born June 22, 1998 in Mashhad) is an Iranian pop singer and composer.\n"
          ]
        }
      ]
    },
    {
      "cell_type": "code",
      "metadata": {
        "colab": {
          "base_uri": "https://localhost:8080/"
        },
        "id": "13h8bMHKk4UX",
        "outputId": "4919ef2a-ebc3-49f2-9c02-b72d38d73661"
      },
      "source": [
        "search(query = \"Paris eiffel tower\")"
      ],
      "execution_count": null,
      "outputs": [
        {
          "output_type": "stream",
          "name": "stdout",
          "text": [
            "Input question: Paris eiffel tower\n",
            "Top-5 lexical search (BM25) hits\n",
            "\t27.300\tThe Eiffel Tower (French: La Tour Eiffel, ], IPA pronunciation: \"EYE-full\" English; \"eh-FEHL\" French) is a landmark in Paris. It was built between 1887 and 1889 for the Exposition Universelle (World Fair). The Tower was the Exposition's main attraction.\n",
            "\t25.263\tParis is a city in the U.S. state of Texas. It is in Lamar County, Texas. It had a population of 25,171 in 2010. It has been called the \"Second Largest Paris in the World\". It has a replica of the Eiffel Tower.\n",
            "\t24.059\tParis is a city in the U.S. state of Tennessee. It had a population of 25,171 in 2010. It has been called the \"World's Biggest Fish Fry\". It has a 70-foot replica of the Eiffel Tower.\n",
            "\t18.470\tAlexandre Gustave Eiffel (December 15, 1832 – December 27, 1923; , ) was a French structural engineer and architect. He is known for designing the Eiffel Tower. He also designed the armature (supporting framework) for the Statue of Liberty, New York Harbor, United States.\n",
            "\t18.440\tThe current tower is the second tower on the site. The original tower was built in 1912. The design was based on the Eiffel Tower. The tower had an cable car that connected it to a nearby amusement park called Luna Park. The original was 64 meters tall. It was the second tallest building in Asia at that time. It quickly became one of the most popular locations in the city. Visitors came from all over.\n",
            "Top-5 Bi-Encoder Retrieval hits\n",
            "\t0.812\tThe Eiffel Tower (French: La Tour Eiffel, ], IPA pronunciation: \"EYE-full\" English; \"eh-FEHL\" French) is a landmark in Paris. It was built between 1887 and 1889 for the Exposition Universelle (World Fair). The Tower was the Exposition's main attraction.\n",
            "\t0.626\tAlexandre Gustave Eiffel (December 15, 1832 – December 27, 1923; , ) was a French structural engineer and architect. He is known for designing the Eiffel Tower. He also designed the armature (supporting framework) for the Statue of Liberty, New York Harbor, United States.\n",
            "\t0.538\tThe Élysée Palace (, ) is the official residence of the French president. It is in Paris, in the 8th \"arrondissement\", near the Champs-Élysées. The building is under protection of a unit of the famous Republican Guard. It was built between 1718 and 1722.\n",
            "\t0.533\tThe Salesforce tower is a skyscraper in the City of London, England. Its official name is 110 Bishopsgate and was formerly The Heron Tower, which it is still often called. When completed in 2011 it became the third tallest building in the United Kingdom and the tallest in the City of London after Tower 42. The Heron Tower is on Bishopsgate.\n",
            "\t0.528\tThe Tower of London is an ancient Norman stone fortress in London, England. It stands on the bank of the River Thames, in the oldest part of the city.\n",
            "Top-5 Cross-Encoder Re-ranker hits\n",
            "\t10.574\tThe Eiffel Tower (French: La Tour Eiffel, ], IPA pronunciation: \"EYE-full\" English; \"eh-FEHL\" French) is a landmark in Paris. It was built between 1887 and 1889 for the Exposition Universelle (World Fair). The Tower was the Exposition's main attraction.\n",
            "\t4.362\tAlexandre Gustave Eiffel (December 15, 1832 – December 27, 1923; , ) was a French structural engineer and architect. He is known for designing the Eiffel Tower. He also designed the armature (supporting framework) for the Statue of Liberty, New York Harbor, United States.\n",
            "\t3.756\tThe current tower is the second tower on the site. The original tower was built in 1912. The design was based on the Eiffel Tower. The tower had an cable car that connected it to a nearby amusement park called Luna Park. The original was 64 meters tall. It was the second tallest building in Asia at that time. It quickly became one of the most popular locations in the city. Visitors came from all over.\n",
            "\t2.965\tParis is a city in the U.S. state of Tennessee. It had a population of 25,171 in 2010. It has been called the \"World's Biggest Fish Fry\". It has a 70-foot replica of the Eiffel Tower.\n",
            "\t2.822\tParis is a city in the U.S. state of Texas. It is in Lamar County, Texas. It had a population of 25,171 in 2010. It has been called the \"Second Largest Paris in the World\". It has a replica of the Eiffel Tower.\n"
          ]
        }
      ]
    },
    {
      "cell_type": "code",
      "metadata": {
        "colab": {
          "base_uri": "https://localhost:8080/"
        },
        "id": "hwTRd5Jqw-09",
        "outputId": "a3a7084a-02c2-4309-d373-84fac2da9f3b"
      },
      "source": [
        "search(query = \"Which US president was killed?\")"
      ],
      "execution_count": null,
      "outputs": [
        {
          "output_type": "stream",
          "name": "stdout",
          "text": [
            "Input question: Which US president was killed?\n",
            "Top-5 lexical search (BM25) hits\n",
            "\t10.179\tLyndon Baines Johnson (August 27, 1908 – January 22, 1973) was a member of the Democratic Party and the 36th president of the United States serving from 1963 to 1969. Johnson took over as president when President Kennedy was killed in November 1963. He was then re-elected in the 1964 election.\n",
            "\t10.091\tLech Kaczyński, the fourth President of the Republic of Poland, died on 10 April 2010. He died in a plane crash outside of Smolensk, Russia. The plane was a Tu-154 belonging to the Polish Air Force. The crash killed all 96 on board. His wife, Maria Kaczyńska, was also among those killed.\n",
            "\t9.791\tJacobo Majluta Azar (October 9, 1934 – March 2, 1996) was a Dominican politician. He was Vice President of the Dominican Republic during the Antonio Guzmán Fernández presidency between 1978 to 1982. He became President of the Dominican Republic after Guzmán Fernández killed himself in 1982. He was president for a month between July to August 1982.\n",
            "\t9.343\tKilled in Action (KIA) is a military term. It is used to describe a member of the military who was killed during a battle. On Wikipedia articles about battles, leaders who were killed in action have this symbol (†) next to their name.\n",
            "\t9.127\tSaddam Hussein Revinathan (28 April 1937 - 30 December 2006) was the President of Iraq, from July 16, 1979 to April 9, 2003, when he was removed from his position during the War in Iraq led by the United States. During his time as President, he might have killed more than a million people through war and genocide. which he denied.\n",
            "Top-5 Bi-Encoder Retrieval hits\n",
            "\t0.686\tJohn F. Kennedy was the 35th President of the United States. He was assassinated (murdered) in Dealey Plaza, Dallas, Texas, on Friday, November 22, 1963. This happened while he was traveling in a Presidential motorcade with his wife Jacqueline, the Governor of Texas John Connally, and the governor's wife Nellie.\n",
            "\t0.656\tWilliam McKinley, the 25th President of the United States, was assassinated on September 6, 1901, inside the Temple of Music on the grounds of the Pan-American Exposition in Buffalo, New York.\n",
            "\t0.655\tJames Abram Garfield (November 19, 1831 - September 19, 1881) was the 20th (1881) President of the United States and the 2nd President to be assassinated (killed while in office). President Garfield was in office from March to September of 1881. He was in office for a total of six months and fifteen days. For almost half that time he was bedridden as a result of an attempt to kill him. He was shot on July 2 and finally died in September the same year he got into office.\n",
            "\t0.635\tThe assassination of President James A. Garfield happened in Washington, D.C. on July 2, 1881. Garfield was shot in the back by Charles J. Guiteau at about 9:30 am, less than four months into Garfield's term as the 20th President of the United States.\n",
            "\t0.628\tLeon Czolgosz (May 5, 1873 - October 29, 1901) was an American assassin and an anarchist best known as the murderer of William McKinley. He was born in Alpena, Michigan to Polish Catholic immigrant parents. Czolgosz shot President William McKinley in Buffalo, New York on 6 September 1901. The President died from his injury on September 14, 1901, 8 days later. Czolgosz shot the president because he believed the President committed war crimes in the American Philippines war (1899-1913) and was an enemy of the people. He was influenced by Emma Goldman. Some people have questioned the sanity of Czolgosz.\n",
            "Top-5 Cross-Encoder Re-ranker hits\n",
            "\t9.278\tWilliam McKinley, the 25th President of the United States, was assassinated on September 6, 1901, inside the Temple of Music on the grounds of the Pan-American Exposition in Buffalo, New York.\n",
            "\t8.609\tOn April 22, 1994, Richard Milhous Nixon, the 37th President of the United States, died after having a stroke\n",
            "\t8.403\tJohn F. Kennedy was the 35th President of the United States. He was assassinated (murdered) in Dealey Plaza, Dallas, Texas, on Friday, November 22, 1963. This happened while he was traveling in a Presidential motorcade with his wife Jacqueline, the Governor of Texas John Connally, and the governor's wife Nellie.\n",
            "\t7.914\tOn December 26, 2006, Gerald Ford, the 38th President of the United States, died at his home in Rancho Mirage, California at 6:45 p.m. local time (02:45, December 27, UTC).\n",
            "\t7.749\tThe assassination of President James A. Garfield happened in Washington, D.C. on July 2, 1881. Garfield was shot in the back by Charles J. Guiteau at about 9:30 am, less than four months into Garfield's term as the 20th President of the United States.\n"
          ]
        }
      ]
    },
    {
      "cell_type": "code",
      "metadata": {
        "colab": {
          "base_uri": "https://localhost:8080/"
        },
        "id": "TFkPfYGXIz0Y",
        "outputId": "0d8e3c2f-18ec-42f4-9062-7fab2b4b050a"
      },
      "source": [
        "search(query=\"When is Chinese New Year\")"
      ],
      "execution_count": null,
      "outputs": [
        {
          "output_type": "stream",
          "name": "stdout",
          "text": [
            "Input question: When is Chinese New Year\n",
            "Top-5 lexical search (BM25) hits\n",
            "\t18.743\tChinese New Year, known in China as the SpringFestival and in Singapore as the LunarNewYear, is a holiday on and around the new moon on the first day of the year in the traditional Chinese calendar. This calendar is based on the changes in the moon and is only sometimes changed to fit the seasons of the year based on how the Earth moves around the sun. Because of this, Chinese New Year is never on January1. It moves around between January21 and February20.\n",
            "\t18.527\tNew Year in Japan is one of the most important festivals. Unlike the Chinese New Year, it is held on January 1.\n",
            "\t15.789\tThe CCTV New Year's Gala (Simplified Chinese: 中国中央电视台春节联欢晚会; Traditional Chinese: 中國中央電視台春節聯歡晚會; Pinyin: \"Zhōngguó zhōngyāng diànshìtái chūnjié liánhuān wǎnhuì\") is a Chinese New Year special produced by China Central Television. It was presented by Zhao Zhongxiang.\n",
            "\t14.463\tNational Day is a yearly holiday in the People's Republic of China. It celebrates the beginning of its new government on October1, 1949. It is one of two Golden Weeks in the country, along with the Chinese New Year.\n",
            "\t14.127\t\"Chinese Revolution\" may mean one of many wars since year 1900.\n",
            "Top-5 Bi-Encoder Retrieval hits\n",
            "\t0.782\tChinese New Year, known in China as the SpringFestival and in Singapore as the LunarNewYear, is a holiday on and around the new moon on the first day of the year in the traditional Chinese calendar. This calendar is based on the changes in the moon and is only sometimes changed to fit the seasons of the year based on how the Earth moves around the sun. Because of this, Chinese New Year is never on January1. It moves around between January21 and February20.\n",
            "\t0.648\tChinese National Day is the national day of China. It may mean:\n",
            "\t0.642\tNational Day is a yearly holiday in the People's Republic of China. It celebrates the beginning of its new government on October1, 1949. It is one of two Golden Weeks in the country, along with the Chinese New Year.\n",
            "\t0.614\tNew Year in Japan is one of the most important festivals. Unlike the Chinese New Year, it is held on January 1.\n",
            "\t0.590\tThe CCTV New Year's Gala (Simplified Chinese: 中国中央电视台春节联欢晚会; Traditional Chinese: 中國中央電視台春節聯歡晚會; Pinyin: \"Zhōngguó zhōngyāng diànshìtái chūnjié liánhuān wǎnhuì\") is a Chinese New Year special produced by China Central Television. It was presented by Zhao Zhongxiang.\n",
            "Top-5 Cross-Encoder Re-ranker hits\n",
            "\t10.896\tChinese New Year, known in China as the SpringFestival and in Singapore as the LunarNewYear, is a holiday on and around the new moon on the first day of the year in the traditional Chinese calendar. This calendar is based on the changes in the moon and is only sometimes changed to fit the seasons of the year based on how the Earth moves around the sun. Because of this, Chinese New Year is never on January1. It moves around between January21 and February20.\n",
            "\t6.147\tNew Year in Japan is one of the most important festivals. Unlike the Chinese New Year, it is held on January 1.\n",
            "\t5.081\tNational Day is a yearly holiday in the People's Republic of China. It celebrates the beginning of its new government on October1, 1949. It is one of two Golden Weeks in the country, along with the Chinese New Year.\n",
            "\t4.163\tThe CCTV New Year's Gala (Simplified Chinese: 中国中央电视台春节联欢晚会; Traditional Chinese: 中國中央電視台春節聯歡晚會; Pinyin: \"Zhōngguó zhōngyāng diànshìtái chūnjié liánhuān wǎnhuì\") is a Chinese New Year special produced by China Central Television. It was presented by Zhao Zhongxiang.\n",
            "\t1.886\tDeng Minghe (; 8 June 2006 – 28 April 2015) was a Chinese actor of yu opera. He was best known for opening the 2012 \"CCTV New Year's Gala\" on China Central Television (CCTV), performing a folk song. He also appeared in the Henan Television series \"Liyuanchun\" in 2010. He was born in Handan, Hebei.\n"
          ]
        }
      ]
    },
    {
      "cell_type": "code",
      "metadata": {
        "id": "soZ1nH4_I4Zi",
        "colab": {
          "base_uri": "https://localhost:8080/"
        },
        "outputId": "4d845259-1915-4cb4-dfdd-3af89bdc2998"
      },
      "source": [
        "search(query=\"How fast is the fastest animal on earth?\")"
      ],
      "execution_count": null,
      "outputs": [
        {
          "output_type": "stream",
          "name": "stdout",
          "text": [
            "Input question: How fast is the fastest animal on earth?\n",
            "Top-5 lexical search (BM25) hits\n",
            "\t13.988\tAnimal Jam is a virtual world made by WildWorks and the National Geographic Society. Many of the players in Animal Jam are children and teenagers. According to the WildWorks website, the game has about 160 million players. Animal Jam is one of the fastest growing children's games in the world. The game is free to play, but to be able to receive all the things Animal Jam has to offer, a membership needs to be purchased online or through a store-purchased gift card.\n",
            "\t13.372\tNozomi trains are the fastest Shinkansen \"bullet\" trains in Japan. They can reach Osaka from Tokyo in two and a half hours. The trains are called \"bullet\" trains because they travel so fast, like a bullet from a gun. These trains have speeds of up to .\n",
            "\t13.077\tThe fin whale (\"Balaenoptera physalus\") is a huge baleen whale. It is the second largest animal on Earth (the blue whale is the biggest). This whale is sometimes called the \"greyhound of the sea\" because of its fast swimming speed; it can swim up to 23 mph (37 km/hr) in short bursts. The fin whale is also called the finback, finner, razorback, common rorqual, and herring whale.\n",
            "\t12.511\tA geostationary orbit (or Geostationary Earth Orbit - GEO) is a type of geosynchronous orbit directly above the Earth's equator (0° latitude). Like all geosynchronous orbits, it has a period (time for one orbit) that is 24 hours. This means it goes around the Earth as fast as the Earth spins, and so it appears to stay above the same spot all the time. A person watching from Earth sees a satellite in a geostationary orbit as not moving, at a steady place in the sky.\n",
            "\t11.903\tAvatar, a word in Hinduism, is a deity which comes down to earth in a human form, an animal form or a partly human and partly animal form. Rama was an avatar of Vishnu, one of the three main gods of the Hindus. Similarly, Buddha was also an avatar. Both of these avatars had human form, but avatars of the Hindu mythology have also appeared in animal form. For example, Matsya had the form of a fish and Varaha had the form of a boar.\n",
            "Top-5 Bi-Encoder Retrieval hits\n",
            "\t0.534\tA cheetah (\"Acinonyx jubatus\") is a medium large cat which lives in Africa. It is the fastest land animal and can run up to 112 kilometers per hour for a short time. Most cheetahs live in the savannas of Africa. There are a few in Asia. Cheetahs are active during the day, and hunt in the early morning or late evening.\n",
            "\t0.491\tDavid William \"Dave\" Sime (July 25, 1936 – January 12, 2016) was an American sprinter. He ranked as one of the fastest humans of all time. He held many sprint records during the late 1950s. He won a silver medal at the 1960 Summer Olympics in Rome, Italy. He later became an ophthalmologist (type of eye doctor) and pioneer of intraocular lens transplants.\n",
            "\t0.484\tThe fin whale (\"Balaenoptera physalus\") is a huge baleen whale. It is the second largest animal on Earth (the blue whale is the biggest). This whale is sometimes called the \"greyhound of the sea\" because of its fast swimming speed; it can swim up to 23 mph (37 km/hr) in short bursts. The fin whale is also called the finback, finner, razorback, common rorqual, and herring whale.\n",
            "\t0.471\tFast can mean different things:\n",
            "\t0.448\tFlight or flying is a process of movement of the object in a gaseous environment or a vacuum without contact with the surface of another environment, as is possible with the use of jet thrust, or other means of propulsion, and without it (by inertia). Best adapted for long controlled powered flight are flying birds and insects, and mammals of the order Chiroptera and extinct reptiles of the order pterosaurs. All of these animals use the aerodynamic principles of flight, using the load-bearing properties of the wing. There are also many animals that make gliding and parachute flight, such as spiders web, aeroplankton flying clams and flying fish, intending to use the ear or leather folds, mammals and reptiles. The fastest flying animal is the peregrine falcon. The speed of its dive is over .\n",
            "Top-5 Cross-Encoder Re-ranker hits\n",
            "\t3.410\tA cheetah (\"Acinonyx jubatus\") is a medium large cat which lives in Africa. It is the fastest land animal and can run up to 112 kilometers per hour for a short time. Most cheetahs live in the savannas of Africa. There are a few in Asia. Cheetahs are active during the day, and hunt in the early morning or late evening.\n",
            "\t2.832\tThe fin whale (\"Balaenoptera physalus\") is a huge baleen whale. It is the second largest animal on Earth (the blue whale is the biggest). This whale is sometimes called the \"greyhound of the sea\" because of its fast swimming speed; it can swim up to 23 mph (37 km/hr) in short bursts. The fin whale is also called the finback, finner, razorback, common rorqual, and herring whale.\n",
            "\t-2.036\tUsain St. Leo Bolt was born in 1986 and is a Jamaican runner and eight-time Olympic gold-medal winner. He is also known as \"Lightning Bolt\". Some people call him the fastest man in the world. He has run 100 metres in 9.58 seconds and 200 metres in 19.30 seconds. He took part in the 2012 London Olympics, and won gold in the 100\n",
            "\t-2.974\tFlight or flying is a process of movement of the object in a gaseous environment or a vacuum without contact with the surface of another environment, as is possible with the use of jet thrust, or other means of propulsion, and without it (by inertia). Best adapted for long controlled powered flight are flying birds and insects, and mammals of the order Chiroptera and extinct reptiles of the order pterosaurs. All of these animals use the aerodynamic principles of flight, using the load-bearing properties of the wing. There are also many animals that make gliding and parachute flight, such as spiders web, aeroplankton flying clams and flying fish, intending to use the ear or leather folds, mammals and reptiles. The fastest flying animal is the peregrine falcon. The speed of its dive is over .\n",
            "\t-3.186\tBluebird K7 was a boat built for Donald Campbell to break the World Water Speed Record. Bluebird was a special kind of boat, called a hydroplane, that skims over the top of the water instead of pushing through it like a normal boat. Bluebird was powered by a jet engine. It set new world water speed records seven times; the fastest was 276 mph (445 km/h). Bluebird was destroyed when Campbell tried to set an eighth record by going faster than 300 mph (480 km/h) on Coniston Water in 1967.\n"
          ]
        }
      ]
    }
  ]
}